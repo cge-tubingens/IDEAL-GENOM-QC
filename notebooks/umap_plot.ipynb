{
 "cells": [
  {
   "cell_type": "markdown",
   "metadata": {},
   "source": [
    "# Example notebook of for UMAP plots\n",
    "\n",
    "The present notebook serves as a guide of how use the `IDEAL-GENOM-QC` library to draw and analyse UMAP plots.\n",
    "\n",
    "Let us import the required libraries."
   ]
  },
  {
   "cell_type": "code",
   "execution_count": null,
   "metadata": {},
   "outputs": [],
   "source": [
    "import sys\n",
    "import os\n",
    "\n",
    "from pathlib import Path\n",
    "\n",
    "# add parent directory to path\n",
    "library_path = os.path.abspath('..')\n",
    "if library_path not in sys.path:\n",
    "    sys.path.append(library_path)\n",
    "\n",
    "from ideal_genom_qc.PopStructure import UMAPplot"
   ]
  },
  {
   "cell_type": "markdown",
   "metadata": {},
   "source": [
    "In the next cell the path variables associated with the project are set."
   ]
  },
  {
   "cell_type": "code",
   "execution_count": null,
   "metadata": {},
   "outputs": [],
   "source": [
    "input_path =  Path('path/to/inputData')\n",
    "input_name = 'input_prefix'\n",
    "output_path=  Path('path/to/outputData')\n",
    "output_name= 'output_prefix'\n",
    "ld_file    = Path('path/to/ld_file') # Path to LD file, if needed"
   ]
  },
  {
   "cell_type": "markdown",
   "metadata": {},
   "source": [
    "In the next cell we define a dictionary containing the parameters to generate UMAP plots.\n",
    "\n",
    "Firstly, we need a set of parameters to generate the PC decomposition.\n",
    "\n",
    "1. `umap_maf`: Parameter `--maf` of **PLINK1.9**.\n",
    "2. `umap_mind`: Parameter `--mind` of **PLINK1.9**.\n",
    "3. `umap_geno`: Parameter `--geno` of **PLINK1.9**.\n",
    "4. `umap_hwe`: Parameter `--hwe` of **PLINK1.9**.\n",
    "5. `umap_ind_pair`: Parameter `--ind-pairwise` of **PLINK1.9**.\n",
    "6. `umap_pca`: Parameter `--pca` of **PLINK1.9**. It determines the number of components that will be used to compute the UMAP projections.\n",
    "\n",
    "The second group of parameters are the ones needed to generate the UMAP projections. Notice that `umap-learn` functions do not requires a parameter list, but we ask a list in order to create a grid of parameters and explore the optimal parameters of the UMAP projection. for detailed description of UMAP parameters, please refer to https://umap-learn.readthedocs.io/en/latest/\n",
    "\n",
    "7. `n_neighbors`: Homonymous parameter from `umap-learn`.\n",
    "8. `metric`: Homonymous parameter from `umap-learn`.\n",
    "9. `min_dist`: Homonymous parameter from `umap-learn`.\n",
    "10. `random_state`: Homonymous parameter from `umap-learn`. If set to `None`, the resulting plot for each collection of parameters may change due. If the user want s full reproducibility should set a value for `random_state`.\n",
    "11. `umap_kwargs`: dictionary for further customization of UMAP plots if needed. See UMAP documentation for further details.\n",
    "\n",
    "Finally, there are some parameters intended for plot customization.\n",
    "\n",
    "12. `case_control_marker`: If set to true, it will use different markers for patients and controls. If `color_hue_file` is not set, the function will use colors instead of different markers.\n",
    "13. `color_hue_file`: Path to tab separated file, with three columns. The first two coincides with the ID columns of the `.fam` file. The third one is a categorical variable that will serve as a hue for the scatter plot."
   ]
  },
  {
   "cell_type": "code",
   "execution_count": null,
   "metadata": {},
   "outputs": [],
   "source": [
    "umap_params = {\n",
    "    'umap_maf': 0.01,\n",
    "    'umap_mind': 0.2,\n",
    "    'umap_geno': 0.1,\n",
    "    'umap_hwe': 5e-8,\n",
    "    'umap_ind_pair': [50, 5, 0.2],\n",
    "    'umap_pca': 10,\n",
    "    'n_neighbors': [5, 10, 15],\n",
    "    'metric': ['euclidean', 'chebyshev'],\n",
    "    'min_dist': [0.01, 0.1, 0.2],\n",
    "    'random_state': None,\n",
    "    'case_control_marker': True,\n",
    "    'color_hue_file': Path('path/to/color_hue_file.txt'), # if needed\n",
    "    'umap_kwargs': {}\n",
    "}"
   ]
  },
  {
   "cell_type": "code",
   "execution_count": null,
   "metadata": {},
   "outputs": [],
   "source": [
    "umap_plots = UMAPplot(\n",
    "    input_path   =input_path, \n",
    "    input_name   =input_name, \n",
    "    high_ld_file =ld_file,\n",
    "    output_path  =output_path,\n",
    "    recompute_pca=False\n",
    ")"
   ]
  },
  {
   "cell_type": "code",
   "execution_count": null,
   "metadata": {},
   "outputs": [],
   "source": [
    "\n",
    "umap_steps = {\n",
    "    'ld_pruning': (umap_plots.ld_pruning, {\n",
    "        'maf': umap_params['umap_maf'], \n",
    "        'mind': umap_params['umap_mind'], \n",
    "        'geno': umap_params['umap_geno'], \n",
    "        'hwe': umap_params['umap_hwe'], \n",
    "        'ind_pair': umap_params['umap_ind_pair']\n",
    "    }),\n",
    "    'comp_pca'  : (umap_plots.compute_pcas, {'pca': umap_params['umap_pca']}),\n",
    "    'draw_plots': (umap_plots.generate_plots, {\n",
    "        'color_hue_file': umap_params['color_hue_file'],\n",
    "        'case_control_markers': umap_params['case_control_marker'],\n",
    "        'n_neighbors': umap_params['n_neighbors'],\n",
    "        'metric': umap_params['metric'],\n",
    "        'min_dist': umap_params['min_dist'],\n",
    "        'random_state': umap_params['random_state'],\n",
    "        'umap_kwargs': umap_params['umap_kwargs'],\n",
    "    })\n",
    "}\n",
    "\n",
    "umap_step_description = {\n",
    "    'ld_pruning': 'LD pruning',\n",
    "    'comp_pca'  : 'Compute PCAs',\n",
    "    'draw_plots': 'Generate UMAP plots'\n",
    "}\n",
    "\n",
    "for name, (func, params) in umap_steps.items():\n",
    "    print(f\"\\033[34m{umap_step_description[name]}.\\033[0m\")\n",
    "    func(**params)"
   ]
  }
 ],
 "metadata": {
  "kernelspec": {
   "display_name": "ideal-genom-qc-6U2l_yTg-py3.12",
   "language": "python",
   "name": "python3"
  },
  "language_info": {
   "codemirror_mode": {
    "name": "ipython",
    "version": 3
   },
   "file_extension": ".py",
   "mimetype": "text/x-python",
   "name": "python",
   "nbconvert_exporter": "python",
   "pygments_lexer": "ipython3",
   "version": "3.12.3"
  }
 },
 "nbformat": 4,
 "nbformat_minor": 2
}
