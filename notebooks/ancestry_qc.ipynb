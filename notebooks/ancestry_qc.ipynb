{
 "cells": [
  {
   "cell_type": "markdown",
   "metadata": {},
   "source": [
    "# Example notebook of a Ancestry QC analysis\n",
    "\n",
    "The present notebook serves as a guide of how use the `IDEAL-GENOM-QC` library to perform a ancestry quality control. We intend to show a possible use, because each user can adapt it to its particular needs. Up to this moment the library can only detects outliers from an homogenous population that overlaps with one of the `SuperPop` present in the **1000 Genomes** data.\n",
    "\n",
    "In this notebook the procedure to perform the ancestty quality control is more detailed so the user can get a deeper understanding of all the steps executed in this part of the pipeline.\n",
    "\n",
    "Let us import the required libraries."
   ]
  },
  {
   "cell_type": "code",
   "execution_count": null,
   "metadata": {},
   "outputs": [],
   "source": [
    "import sys\n",
    "import os\n",
    "\n",
    "from pathlib import Path\n",
    "\n",
    "# add parent directory to path\n",
    "library_path = os.path.abspath('..')\n",
    "if library_path not in sys.path:\n",
    "    sys.path.append(library_path)\n",
    "\n",
    "library_path = Path(library_path)\n",
    "\n",
    "from ideal_genom_qc.AncestryQC import AncestryQC"
   ]
  },
  {
   "cell_type": "markdown",
   "metadata": {},
   "source": [
    "In the next cell the path variables associated with the project are set.\n",
    "\n",
    "Moreover, since each user can have a slightly different choices for the LD regions, the user can provide its own file. Nevertheless, we provide the functionality of automatically fetching high LD regions for builts **GRCh37** and **GRCH38**. \n",
    "\n",
    "Also, the user can provide the path to the reference genome files or let the library fetch the data automatically.\n",
    "\n",
    "When giving the path to the input files, the user should take into account that the input files of the ancestry check must the output of the sample QC."
   ]
  },
  {
   "cell_type": "code",
   "execution_count": null,
   "metadata": {},
   "outputs": [],
   "source": [
    "input_path = Path('/path/to/input/data/')\n",
    "input_name = 'input-prefix'\n",
    "output_path= Path('/path/to/output/data/')\n",
    "output_name= 'output-prefix'\n",
    "high_ld_file = Path('path/to/ld-regions/file') # if not available, set to Path()"
   ]
  },
  {
   "cell_type": "markdown",
   "metadata": {},
   "source": [
    "In the next cell we define a dictionary with the parameters to execute the ancestry QC.\n",
    "\n",
    "The explanation of the parameters is the following:\n",
    "\n",
    "1. `ind_pair`: parameter of **PLINK1.9** `--indep-pairwise`.\n",
    "2. `pca`: number of principal components to be computed, parameter `--pca` from **PLINK1.9**.\n",
    "3. `maf`: minor allele frequency, parameter `--maf` of **PLINK1.9**.\n",
    "4. `ref_threshold`: number of standard deviations from the mean of the reference panel `SuperPop` to a sample be considered a possible outlier.\n",
    "5. `stu_threshold`: number of standard deviations from the mean of the study population to flag a sample as possible outlier.\n",
    "6. `reference_pop`: Super population from the reference panel considered as reference for the study.\n",
    "7. `num_pcs`: number of principal components used to flag a sample as outlier."
   ]
  },
  {
   "cell_type": "code",
   "execution_count": null,
   "metadata": {},
   "outputs": [],
   "source": [
    "ancestry_params ={\n",
    "    \"ind_pair\"     : [50, 5, 0.2],\n",
    "    \"pca\"          : 10,\n",
    "    \"maf\"          : 0.01,\n",
    "    \"ref_threshold\": 4,\n",
    "    \"stu_threshold\": 4,\n",
    "    \"reference_pop\": \"SAS\",\n",
    "    \"num_pcs\"      : 10,\n",
    "}"
   ]
  },
  {
   "cell_type": "code",
   "execution_count": null,
   "metadata": {},
   "outputs": [],
   "source": [
    "ancestry_qc = AncestryQC(\n",
    "    input_path = input_path, \n",
    "    input_name = input_name, \n",
    "    output_path= output_path, \n",
    "    output_name= output_name, \n",
    "    high_ld_file= high_ld_file,\n",
    "    recompute_merge=True, # if True, it will recompute the merge of the input files\n",
    "    built='38', # '38' it is the default value \n",
    ")"
   ]
  },
  {
   "cell_type": "code",
   "execution_count": null,
   "metadata": {},
   "outputs": [],
   "source": [
    "ancestry_qc_steps = {\n",
    "    'merge_study_reference'    : (ancestry_qc.merge_reference_study, {\"ind_pair\":ancestry_params['ind_pair']}),\n",
    "    #'delete_intermediate_files': (ancestry_qc._clean_merging_dir, {}),\n",
    "    'pca_analysis'             : (ancestry_qc.run_pca, \n",
    "        {\n",
    "            \"ref_population\": ancestry_params['reference_pop'],\n",
    "            \"pca\":ancestry_params['pca'],\n",
    "            \"maf\":ancestry_params['maf'],\n",
    "            \"num_pca\":ancestry_params['num_pcs'],\n",
    "            \"ref_threshold\":ancestry_params['ref_threshold'],\n",
    "            \"stu_threshold\":ancestry_params['stu_threshold'],\n",
    "        }\n",
    "    ),\n",
    "}\n",
    "\n",
    "step_description = {\n",
    "    'merge_study_reference'    : \"Merge reference genome with study genome\",\n",
    "    #'delete_intermediate_files': \"Delete intermediate files generated during merging\",\n",
    "    'pca_analysis'             : \"Run a PCA analysis to perfom ancestry QC\"\n",
    "}\n",
    "\n",
    "for name, (func, params) in ancestry_qc_steps.items():\n",
    "    print(f\"\\033[1m{step_description[name]}.\\033[0m\")\n",
    "    func(**params)"
   ]
  }
 ],
 "metadata": {
  "kernelspec": {
   "display_name": "ideal-genom-qc-6U2l_yTg-py3.12",
   "language": "python",
   "name": "python3"
  },
  "language_info": {
   "codemirror_mode": {
    "name": "ipython",
    "version": 3
   },
   "file_extension": ".py",
   "mimetype": "text/x-python",
   "name": "python",
   "nbconvert_exporter": "python",
   "pygments_lexer": "ipython3",
   "version": "3.12.3"
  }
 },
 "nbformat": 4,
 "nbformat_minor": 2
}
