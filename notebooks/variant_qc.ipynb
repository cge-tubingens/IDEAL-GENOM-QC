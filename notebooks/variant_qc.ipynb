{
 "cells": [
  {
   "cell_type": "code",
   "execution_count": 1,
   "metadata": {},
   "outputs": [],
   "source": [
    "import sys\n",
    "import os\n",
    "\n",
    "import pandas as pd\n",
    "\n",
    "# add parent directory to path\n",
    "library_path = os.path.abspath('..')\n",
    "if library_path not in sys.path:\n",
    "    sys.path.append(library_path)\n",
    "\n",
    "from cge_comrare_pipeline.VariantQC import VariantQC"
   ]
  },
  {
   "cell_type": "code",
   "execution_count": 2,
   "metadata": {},
   "outputs": [
    {
     "data": {
      "application/vnd.jupyter.widget-view+json": {
       "model_id": "59d0d5ed6206489a837c226a2c0342c6",
       "version_major": 2,
       "version_minor": 0
      },
      "text/plain": [
       "Text(value='/home/luis/data/rawdata-sexupdated/outputData/ancestry_results/clean_files', description='Path to …"
      ]
     },
     "metadata": {},
     "output_type": "display_data"
    },
    {
     "data": {
      "application/vnd.jupyter.widget-view+json": {
       "model_id": "86b5bed5dd30401592ad92f3c428ebbe",
       "version_major": 2,
       "version_minor": 0
      },
      "text/plain": [
       "Text(value='luxgiant_res-ancestry-clean', description='Name of the plink1.9 files:', style=TextStyle(descripti…"
      ]
     },
     "metadata": {},
     "output_type": "display_data"
    },
    {
     "data": {
      "application/vnd.jupyter.widget-view+json": {
       "model_id": "88365a7a7850410db44e36e7693781ae",
       "version_major": 2,
       "version_minor": 0
      },
      "text/plain": [
       "Text(value='/home/luis/data/rawdata-sexupdated/outputData/', description='Path to output files:', style=TextSt…"
      ]
     },
     "metadata": {},
     "output_type": "display_data"
    },
    {
     "data": {
      "application/vnd.jupyter.widget-view+json": {
       "model_id": "42d8665c011d43dea7f9958293f056fe",
       "version_major": 2,
       "version_minor": 0
      },
      "text/plain": [
       "Text(value='luxgiant_res', description='Name of the resulting files:', style=TextStyle(description_width='init…"
      ]
     },
     "metadata": {},
     "output_type": "display_data"
    }
   ],
   "source": [
    "import ipywidgets as widgets\n",
    "from IPython.display import display\n",
    "\n",
    "# Create interactive widgets for input\n",
    "input_path = widgets.Text(\n",
    "    value='/home/luis/data/rawdata-sexupdated/outputData/ancestry_results/clean_files',\n",
    "    description='Path to input plink1.9 files:',\n",
    "    style={'description_width': 'initial'},\n",
    "    layout=widgets.Layout(width='50%')\n",
    ")\n",
    "\n",
    "input_name = widgets.Text(\n",
    "    value='luxgiant_res-ancestry-clean',\n",
    "    description='Name of the plink1.9 files:',\n",
    "    style={'description_width': 'initial'},\n",
    "    layout=widgets.Layout(width='50%')\n",
    ")\n",
    "\n",
    "output_path = widgets.Text(\n",
    "    value='/home/luis/data/rawdata-sexupdated/outputData/',\n",
    "    description='Path to output files:',\n",
    "    style={'description_width': 'initial'},\n",
    "    layout=widgets.Layout(width='50%')\n",
    ")\n",
    "output_name = widgets.Text(\n",
    "    value='luxgiant_res',\n",
    "    description='Name of the resulting files:',\n",
    "    style={'description_width': 'initial'},\n",
    "    layout=widgets.Layout(width='50%')\n",
    ")\n",
    "# Display the widgets\n",
    "display(input_path, input_name, output_path, output_name)\n",
    "\n",
    "# Function to get the text parameter values\n",
    "def get_params():\n",
    "    return input_path.value, input_name.value, output_path.value, output_name.value"
   ]
  },
  {
   "cell_type": "code",
   "execution_count": 3,
   "metadata": {},
   "outputs": [
    {
     "name": "stdout",
     "output_type": "stream",
     "text": [
      "Input Path: /home/luis/data/rawdata-sexupdated/outputData/ancestry_results/clean_files\n",
      "Input Name: luxgiant_res-ancestry-clean\n",
      "Output Path: /home/luis/data/rawdata-sexupdated/outputData/\n",
      "Output Name: luxgiant_res\n"
     ]
    }
   ],
   "source": [
    "# Use the parameter values\n",
    "path_params = get_params()\n",
    "print(f\"Input Path: {path_params[0]}\")\n",
    "print(f\"Input Name: {path_params[1]}\")\n",
    "print(f\"Output Path: {path_params[2]}\")\n",
    "print(f\"Output Name: {path_params[3]}\")"
   ]
  },
  {
   "cell_type": "code",
   "execution_count": 4,
   "metadata": {},
   "outputs": [
    {
     "data": {
      "application/vnd.jupyter.widget-view+json": {
       "model_id": "0305e76c8686417790f9cf02e49eb544",
       "version_major": 2,
       "version_minor": 0
      },
      "text/plain": [
       "IntText(value=24, description='chr_y (int):', style=DescriptionStyle(description_width='initial'))"
      ]
     },
     "metadata": {},
     "output_type": "display_data"
    },
    {
     "data": {
      "application/vnd.jupyter.widget-view+json": {
       "model_id": "20b602d477fa4403a3ff4ceacdfb7ffb",
       "version_major": 2,
       "version_minor": 0
      },
      "text/plain": [
       "FloatText(value=0.2, description='Missing data rate for variants (float):', style=DescriptionStyle(description…"
      ]
     },
     "metadata": {},
     "output_type": "display_data"
    },
    {
     "data": {
      "application/vnd.jupyter.widget-view+json": {
       "model_id": "61ce4aefadde4638b0365defc975760b",
       "version_major": 2,
       "version_minor": 0
      },
      "text/plain": [
       "FloatText(value=1e-05, description='Different genotype rate (float):', style=DescriptionStyle(description_widt…"
      ]
     },
     "metadata": {},
     "output_type": "display_data"
    }
   ],
   "source": [
    "# Create interactive widgets for list input\n",
    "\n",
    "chr_y = widgets.IntText(\n",
    "    value=24,  # Default value\n",
    "    description='chr_y (int):',\n",
    "    style={'description_width': 'initial'},\n",
    "    layout=widgets.Layout(width='50%')\n",
    ")\n",
    "\n",
    "miss_data_rate = widgets.FloatText(\n",
    "    value=0.2,  # Default value\n",
    "    description='Missing data rate for variants (float):',\n",
    "    style={'description_width': 'initial'},\n",
    "    layout=widgets.Layout(width='50%')\n",
    ")\n",
    "\n",
    "diff_genotype_rate = widgets.FloatText(\n",
    "    value=1e-5,  # Default value\n",
    "    description='Different genotype rate (float):',\n",
    "    style={'description_width': 'initial'},\n",
    "    layout=widgets.Layout(width='50%')\n",
    ")\n",
    "\n",
    "# display the widgets\n",
    "display(chr_y, miss_data_rate, diff_genotype_rate)\n",
    "\n",
    "def get_sample_qc_params():\n",
    "\n",
    "    variant_qc_params = dict()\n",
    "\n",
    "    variant_qc_params['chr-y'] = chr_y.value\n",
    "    variant_qc_params['miss_data_rate']= miss_data_rate.value\n",
    "    variant_qc_params['diff_genotype_rate'] = diff_genotype_rate.value\n",
    "    \n",
    "    return variant_qc_params"
   ]
  },
  {
   "cell_type": "code",
   "execution_count": 5,
   "metadata": {},
   "outputs": [
    {
     "data": {
      "text/plain": [
       "{'chr-y': 24, 'miss_data_rate': 0.2, 'diff_genotype_rate': 1e-05}"
      ]
     },
     "execution_count": 5,
     "metadata": {},
     "output_type": "execute_result"
    }
   ],
   "source": [
    "variant_params = get_sample_qc_params()\n",
    "variant_params"
   ]
  },
  {
   "cell_type": "code",
   "execution_count": 6,
   "metadata": {},
   "outputs": [],
   "source": [
    "variant = VariantQC(\n",
    "    input_path      =input_path.value,\n",
    "    input_name      =input_name.value,\n",
    "    output_path     =output_path.value,\n",
    "    output_name     =output_name.value\n",
    ")"
   ]
  },
  {
   "cell_type": "code",
   "execution_count": 7,
   "metadata": {},
   "outputs": [
    {
     "name": "stdout",
     "output_type": "stream",
     "text": [
      "\u001b[1mCompute missing data rate for males and females.\u001b[0m\n",
      "PLINK v1.90b7.4 64-bit (18 Aug 2024)           www.cog-genomics.org/plink/1.9/\n",
      "(C) 2005-2024 Shaun Purcell, Christopher Chang   GNU General Public License v3\n",
      "Logging to /home/luis/data/rawdata-sexupdated/outputData/variant_qc_results/luxgiant_res-missing-males-only.log.\n",
      "Options in effect:\n",
      "  --bfile /home/luis/data/rawdata-sexupdated/outputData/ancestry_results/clean_files/luxgiant_res-ancestry-clean\n",
      "  --chr 24\n",
      "  --filter-males\n",
      "  --memory 37855.0\n",
      "  --missing\n",
      "  --out /home/luis/data/rawdata-sexupdated/outputData/variant_qc_results/luxgiant_res-missing-males-only\n",
      "\n",
      "63927 MB RAM detected; reserving 37855 MB for main workspace.\n",
      "5729 out of 1842636 variants loaded from .bim file.\n",
      "11182 people (7468 males, 3714 females) loaded from .fam.\n",
      "11182 phenotype values loaded from .fam.\n",
      "3714 people removed due to gender filter (--filter-males).\n",
      "Using 1 thread (no multithreaded calculations invoked).\n",
      "Before main variant filters, 7468 founders and 0 nonfounders present.\n",
      "Calculating allele frequencies... 10111213141516171819202122232425262728293031323334353637383940414243444546474849505152535455565758596061626364656667686970717273747576777879808182838485868788899091929394959697989 done.\n",
      "Total genotyping rate in remaining samples is 0.980469.\n",
      "--missing: Sample missing data report written to\n",
      "/home/luis/data/rawdata-sexupdated/outputData/variant_qc_results/luxgiant_res-missing-males-only.imiss,\n",
      "and variant-based missing data report written to\n",
      "/home/luis/data/rawdata-sexupdated/outputData/variant_qc_results/luxgiant_res-missing-males-only.lmiss.\n",
      "\n",
      "PLINK v1.90b7.4 64-bit (18 Aug 2024)           www.cog-genomics.org/plink/1.9/\n",
      "(C) 2005-2024 Shaun Purcell, Christopher Chang   GNU General Public License v3\n",
      "Logging to /home/luis/data/rawdata-sexupdated/outputData/variant_qc_results/luxgiant_res-missing-not-y.log.\n",
      "Options in effect:\n",
      "  --bfile /home/luis/data/rawdata-sexupdated/outputData/ancestry_results/clean_files/luxgiant_res-ancestry-clean\n",
      "  --memory 37855.0\n",
      "  --missing\n",
      "  --not-chr 24\n",
      "  --out /home/luis/data/rawdata-sexupdated/outputData/variant_qc_results/luxgiant_res-missing-not-y\n",
      "\n",
      "63927 MB RAM detected; reserving 37855 MB for main workspace.\n",
      "1836907 out of 1842636 variants loaded from .bim file.\n",
      "11182 people (7468 males, 3714 females) loaded from .fam.\n",
      "11182 phenotype values loaded from .fam.\n",
      "Using 1 thread (no multithreaded calculations invoked).\n",
      "Before main variant filters, 11182 founders and 0 nonfounders present.\n",
      "Calculating allele frequencies... 10111213141516171819202122232425262728293031323334353637383940414243444546474849505152535455565758596061626364656667686970717273747576777879808182838485868788899091929394959697989 done.\n",
      "Total genotyping rate is 0.993281.\n",
      "--missing: Sample missing data report written to\n",
      "/home/luis/data/rawdata-sexupdated/outputData/variant_qc_results/luxgiant_res-missing-not-y.imiss,\n",
      "and variant-based missing data report written to\n",
      "/home/luis/data/rawdata-sexupdated/outputData/variant_qc_results/luxgiant_res-missing-not-y.lmiss.\n",
      "\n",
      "\u001b[1mCase/control nonrandom missingness test.\u001b[0m\n",
      "PLINK v1.90b7.4 64-bit (18 Aug 2024)           www.cog-genomics.org/plink/1.9/\n",
      "(C) 2005-2024 Shaun Purcell, Christopher Chang   GNU General Public License v3\n",
      "Logging to /home/luis/data/rawdata-sexupdated/outputData/variant_qc_results/luxgiant_res-case-control-missing.log.\n",
      "Options in effect:\n",
      "  --bfile /home/luis/data/rawdata-sexupdated/outputData/ancestry_results/clean_files/luxgiant_res-ancestry-clean\n",
      "  --memory 37873.0\n",
      "  --out /home/luis/data/rawdata-sexupdated/outputData/variant_qc_results/luxgiant_res-case-control-missing\n",
      "  --test-missing\n",
      "\n",
      "63927 MB RAM detected; reserving 37873 MB for main workspace.\n",
      "1842636 variants loaded from .bim file.\n",
      "11182 people (7468 males, 3714 females) loaded from .fam.\n",
      "11182 phenotype values loaded from .fam.\n",
      "Using 1 thread (no multithreaded calculations invoked).\n",
      "Before main variant filters, 11182 founders and 0 nonfounders present.\n",
      "Calculating allele frequencies... 10111213141516171819202122232425262728293031323334353637383940414243444546474849505152535455565758596061626364656667686970717273747576777879808182838485868788899091929394959697989 done.\n",
      "Total genotyping rate is 0.993241.\n",
      "1842636 variants and 11182 people pass filters and QC.\n",
      "Among remaining phenotypes, 4806 are cases and 6376 are controls.\n",
      "Writing --test-missing report to\n",
      "/home/luis/data/rawdata-sexupdated/outputData/variant_qc_results/luxgiant_res-case-control-missing.missing\n",
      "... done.\n",
      "\n"
     ]
    }
   ],
   "source": [
    "variant_qc_steps = {\n",
    "    'Missing data rate'         : (variant.execute_missing_data_rate, (variant_params['chr-y'],)),\n",
    "    'Different genotype'        : (variant.execute_different_genotype_call_rate, ())\n",
    "}\n",
    "\n",
    "step_description = {\n",
    "    'Missing data rate'         : 'Compute missing data rate for males and females',\n",
    "    'Different genotype'        : 'Case/control nonrandom missingness test'\n",
    "}\n",
    "\n",
    "for name, (func, params) in variant_qc_steps.items():\n",
    "    print(f\"\\033[1m{step_description[name]}.\\033[0m\")\n",
    "    func(*params)"
   ]
  },
  {
   "cell_type": "code",
   "execution_count": 8,
   "metadata": {},
   "outputs": [
    {
     "data": {
      "text/html": [
       "<div>\n",
       "<style scoped>\n",
       "    .dataframe tbody tr th:only-of-type {\n",
       "        vertical-align: middle;\n",
       "    }\n",
       "\n",
       "    .dataframe tbody tr th {\n",
       "        vertical-align: top;\n",
       "    }\n",
       "\n",
       "    .dataframe thead th {\n",
       "        text-align: right;\n",
       "    }\n",
       "</style>\n",
       "<table border=\"1\" class=\"dataframe\">\n",
       "  <thead>\n",
       "    <tr style=\"text-align: right;\">\n",
       "      <th></th>\n",
       "      <th>Failure</th>\n",
       "      <th>count</th>\n",
       "    </tr>\n",
       "  </thead>\n",
       "  <tbody>\n",
       "    <tr>\n",
       "      <th>0</th>\n",
       "      <td>Different genotype call rate</td>\n",
       "      <td>12617</td>\n",
       "    </tr>\n",
       "    <tr>\n",
       "      <th>1</th>\n",
       "      <td>Missing data rate on females</td>\n",
       "      <td>10261</td>\n",
       "    </tr>\n",
       "    <tr>\n",
       "      <th>2</th>\n",
       "      <td>Missing data rate on males</td>\n",
       "      <td>9</td>\n",
       "    </tr>\n",
       "    <tr>\n",
       "      <th>3</th>\n",
       "      <td>Duplicated SNPs</td>\n",
       "      <td>-717</td>\n",
       "    </tr>\n",
       "    <tr>\n",
       "      <th>4</th>\n",
       "      <td>Total</td>\n",
       "      <td>22170</td>\n",
       "    </tr>\n",
       "  </tbody>\n",
       "</table>\n",
       "</div>"
      ],
      "text/plain": [
       "                        Failure  count\n",
       "0  Different genotype call rate  12617\n",
       "1  Missing data rate on females  10261\n",
       "2    Missing data rate on males      9\n",
       "3               Duplicated SNPs   -717\n",
       "4                         Total  22170"
      ]
     },
     "execution_count": 8,
     "metadata": {},
     "output_type": "execute_result"
    }
   ],
   "source": [
    "variant.get_fail_variants(\n",
    "    marker_call_rate_thres=0.2, \n",
    "    case_controls_thres=variant_params['diff_genotype_rate']\n",
    ")"
   ]
  },
  {
   "cell_type": "code",
   "execution_count": 9,
   "metadata": {},
   "outputs": [
    {
     "name": "stdout",
     "output_type": "stream",
     "text": [
      "PLINK v1.90b7.4 64-bit (18 Aug 2024)           www.cog-genomics.org/plink/1.9/\n",
      "(C) 2005-2024 Shaun Purcell, Christopher Chang   GNU General Public License v3\n",
      "Logging to /home/luis/data/rawdata-sexupdated/outputData/variant_qc_results/clean_files/luxgiant_res-variantQCed.log.\n",
      "Options in effect:\n",
      "  --autosome\n",
      "  --bfile /home/luis/data/rawdata-sexupdated/outputData/ancestry_results/clean_files/luxgiant_res-ancestry-clean\n",
      "  --exclude /home/luis/data/rawdata-sexupdated/outputData/variant_qc_results/fail_samples/fail_markers.txt\n",
      "  --geno 0.1\n",
      "  --hwe 5e-08\n",
      "  --maf 5e-08\n",
      "  --make-bed\n",
      "  --out /home/luis/data/rawdata-sexupdated/outputData/variant_qc_results/clean_files/luxgiant_res-variantQCed\n",
      "\n",
      "63927 MB RAM detected; reserving 31963 MB for main workspace.\n",
      "1772816 out of 1842636 variants loaded from .bim file.\n",
      "11182 people (7468 males, 3714 females) loaded from .fam.\n",
      "11182 phenotype values loaded from .fam.\n",
      "--exclude: 1752147 variants remaining.\n",
      "Using 1 thread (no multithreaded calculations invoked).\n",
      "Before main variant filters, 11182 founders and 0 nonfounders present.\n",
      "Calculating allele frequencies... 10111213141516171819202122232425262728293031323334353637383940414243444546474849505152535455565758596061626364656667686970717273747576777879808182838485868788899091929394959697989 done.\n",
      "Total genotyping rate is 0.997735.\n",
      "5100 variants removed due to missing genotype data (--geno).\n",
      "--hwe: 8643 variants removed due to Hardy-Weinberg exact test.\n",
      "448403 variants removed due to minor allele threshold(s)\n",
      "(--maf/--max-maf/--mac/--max-mac).\n",
      "1290001 variants and 11182 people pass filters and QC.\n",
      "Among remaining phenotypes, 4806 are cases and 6376 are controls.\n",
      "--make-bed to\n",
      "/home/luis/data/rawdata-sexupdated/outputData/variant_qc_results/clean_files/luxgiant_res-variantQCed.bed\n",
      "+\n",
      "/home/luis/data/rawdata-sexupdated/outputData/variant_qc_results/clean_files/luxgiant_res-variantQCed.bim\n",
      "+\n",
      "/home/luis/data/rawdata-sexupdated/outputData/variant_qc_results/clean_files/luxgiant_res-variantQCed.fam\n",
      "... 101112131415161718192021222324252627282930313233343536373839404142434445464748495051525354555657585960616263646566676869707172737475767778798081828384858687888990919293949596979899done.\n",
      "Warning: --hwe observation counts vary by more than 10%.  Consider using\n",
      "--geno, and/or applying different p-value thresholds to distinct subsets of\n",
      "your data.\n",
      "\n"
     ]
    },
    {
     "data": {
      "text/plain": [
       "{'pass': True,\n",
       " 'step': 'remove_markers',\n",
       " 'output': {'plink_out': '/home/luis/data/rawdata-sexupdated/outputData/variant_qc_results'}}"
      ]
     },
     "execution_count": 9,
     "metadata": {},
     "output_type": "execute_result"
    }
   ],
   "source": [
    "variant.execute_drop_variants()"
   ]
  }
 ],
 "metadata": {
  "kernelspec": {
   "display_name": "cge-comrare-pipeline-AOnVxG3n-py3.12",
   "language": "python",
   "name": "python3"
  },
  "language_info": {
   "codemirror_mode": {
    "name": "ipython",
    "version": 3
   },
   "file_extension": ".py",
   "mimetype": "text/x-python",
   "name": "python",
   "nbconvert_exporter": "python",
   "pygments_lexer": "ipython3",
   "version": "3.12.3"
  }
 },
 "nbformat": 4,
 "nbformat_minor": 2
}
