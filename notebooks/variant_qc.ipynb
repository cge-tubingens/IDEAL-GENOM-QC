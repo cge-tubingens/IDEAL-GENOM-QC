{
 "cells": [
  {
   "cell_type": "code",
   "execution_count": null,
   "metadata": {},
   "outputs": [],
   "source": [
    "import sys\n",
    "import os\n",
    "\n",
    "import pandas as pd\n",
    "\n",
    "# add parent directory to path\n",
    "library_path = os.path.abspath('..')\n",
    "if library_path not in sys.path:\n",
    "    sys.path.append(library_path)\n",
    "\n",
    "from cge_comrare_pipeline.VariantQC import VariantQC"
   ]
  },
  {
   "cell_type": "code",
   "execution_count": null,
   "metadata": {},
   "outputs": [],
   "source": [
    "import ipywidgets as widgets\n",
    "from IPython.display import display\n",
    "\n",
    "# Create interactive widgets for input\n",
    "input_path = widgets.Text(\n",
    "    value='/home/luis/data/rawdata-sexupdated/outputData/ancestry_results',\n",
    "    description='Path to input plink1.9 files:',\n",
    "    style={'description_width': 'initial'}\n",
    ")\n",
    "\n",
    "input_name = widgets.Text(\n",
    "    value='luxgiant_res-ancestry-clean',\n",
    "    description='Name of the plink1.9 files:',\n",
    "    style={'description_width': 'initial'}\n",
    ")\n",
    "\n",
    "output_path = widgets.Text(\n",
    "    value='/home/luis/data/rawdata-sexupdated/outputData/',\n",
    "    description='Path to output files:',\n",
    "    style={'description_width': 'initial'}\n",
    ")\n",
    "output_name = widgets.Text(\n",
    "    value='luxgiant_res',\n",
    "    description='Name of the resulting files:',\n",
    "    style={'description_width': 'initial'}\n",
    ")\n",
    "# Display the widgets\n",
    "display(input_path, input_name, output_path, output_name)\n",
    "\n",
    "# Function to get the text parameter values\n",
    "def get_params():\n",
    "    return input_path.value, input_name.value, output_path.value, output_name.value"
   ]
  },
  {
   "cell_type": "code",
   "execution_count": null,
   "metadata": {},
   "outputs": [],
   "source": [
    "# Use the parameter values\n",
    "path_params = get_params()\n",
    "print(f\"Input Path: {path_params[0]}\")\n",
    "print(f\"Input Name: {path_params[1]}\")\n",
    "print(f\"Output Path: {path_params[2]}\")\n",
    "print(f\"Output Name: {path_params[3]}\")"
   ]
  },
  {
   "cell_type": "code",
   "execution_count": null,
   "metadata": {},
   "outputs": [],
   "source": [
    "# Create interactive widgets for list input\n",
    "\n",
    "chr_y = widgets.IntText(\n",
    "    value=24,  # Default value\n",
    "    description='chr_y (int):',\n",
    "    style={'description_width': 'initial'}\n",
    ")\n",
    "\n",
    "miss_data_rate = widgets.FloatText(\n",
    "    value=0.2,  # Default value\n",
    "    description='Missing data rate for variants (float):',\n",
    "    style={'description_width': 'initial'}\n",
    ")\n",
    "\n",
    "diff_genotype_rate = widgets.FloatText(\n",
    "    value=1e-4,  # Default value\n",
    "    description='Different genotype rate (float):',\n",
    "    style={'description_width': 'initial'}\n",
    ")\n",
    "\n",
    "# display the widgets\n",
    "display(chr_y, miss_data_rate, diff_genotype_rate)\n",
    "\n",
    "def get_sample_qc_params():\n",
    "\n",
    "    variant_qc_params = dict()\n",
    "\n",
    "    variant_qc_params['chr-y'] = chr_y.value\n",
    "    variant_qc_params['miss_data_rate']= miss_data_rate.value\n",
    "    variant_qc_params['diff_genotype_rate'] = diff_genotype_rate.value\n",
    "    \n",
    "    return variant_qc_params"
   ]
  },
  {
   "cell_type": "code",
   "execution_count": null,
   "metadata": {},
   "outputs": [],
   "source": [
    "variant_params = get_sample_qc_params()\n",
    "variant_params"
   ]
  },
  {
   "cell_type": "code",
   "execution_count": null,
   "metadata": {},
   "outputs": [],
   "source": [
    "variant = VariantQC(\n",
    "    input_path      =input_path.value,\n",
    "    input_name      =input_name.value,\n",
    "    output_path     =output_path.value,\n",
    "    output_name     =output_name.value\n",
    ")"
   ]
  },
  {
   "cell_type": "code",
   "execution_count": null,
   "metadata": {},
   "outputs": [],
   "source": [
    "variant_qc_steps = {\n",
    "    'Missing data rate'         : (variant.execute_missing_data_rate, (variant_params['chr-y'],)),\n",
    "    'Different genotype'        : (variant.execute_different_genotype_call_rate, ())\n",
    "}\n",
    "\n",
    "step_description = {\n",
    "    'Missing data rate'         : 'Solve hh warnings by setting to missing',\n",
    "    'Different genotype'        : 'Perform LD pruning'\n",
    "}\n",
    "\n",
    "for name, (func, params) in variant_qc_steps.items():\n",
    "    print(f\"\\033[1m{step_description[name]}.\\033[0m\")\n",
    "    func(*params)"
   ]
  },
  {
   "cell_type": "code",
   "execution_count": null,
   "metadata": {},
   "outputs": [],
   "source": [
    "variant.get_fail_variants()"
   ]
  },
  {
   "cell_type": "code",
   "execution_count": null,
   "metadata": {},
   "outputs": [],
   "source": [
    "variant.execute_drop_variants()"
   ]
  }
 ],
 "metadata": {
  "kernelspec": {
   "display_name": "cge-comrare-pipeline-AOnVxG3n-py3.12",
   "language": "python",
   "name": "python3"
  },
  "language_info": {
   "codemirror_mode": {
    "name": "ipython",
    "version": 3
   },
   "file_extension": ".py",
   "mimetype": "text/x-python",
   "name": "python",
   "nbconvert_exporter": "python",
   "pygments_lexer": "ipython3",
   "version": "3.12.3"
  }
 },
 "nbformat": 4,
 "nbformat_minor": 2
}
