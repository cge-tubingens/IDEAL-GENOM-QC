{
 "cells": [
  {
   "cell_type": "markdown",
   "metadata": {},
   "source": [
    "# Example notebook of a Variant QC analysis\n",
    "\n",
    "The present notebook serves as a guide of how use the `IDEAL-GENOM-QC` library to perform a variant quality control. We intend to show a possible use, because each user can adapt it to its particular needs.\n",
    "\n",
    "In this notebook the procedure to perform the variant quality control is more detailed so the user can get a deeper understanding of all the steps executed in this part of the pipeline.\n",
    "\n",
    "Let us import the required libraries."
   ]
  },
  {
   "cell_type": "code",
   "execution_count": null,
   "metadata": {},
   "outputs": [],
   "source": [
    "import sys\n",
    "import os\n",
    "\n",
    "from pathlib import Path\n",
    "\n",
    "# add parent directory to path\n",
    "library_path = os.path.abspath('..')\n",
    "if library_path not in sys.path:\n",
    "    sys.path.append(library_path)\n",
    "\n",
    "from ideal_genom_qc.VariantQC import VariantQC"
   ]
  },
  {
   "cell_type": "markdown",
   "metadata": {},
   "source": [
    "In the next cell the path variables associated with the project are set."
   ]
  },
  {
   "cell_type": "code",
   "execution_count": null,
   "metadata": {},
   "outputs": [],
   "source": [
    "input_path =  Path('path/to/inputData')\n",
    "input_name = 'input_prefix'\n",
    "output_path=  Path('path/to/outputData')\n",
    "output_name= 'output_prefix'"
   ]
  },
  {
   "cell_type": "markdown",
   "metadata": {},
   "source": [
    "In the next cell we define a dictionary containing the parameters to execute the sample QC pipeline.\n",
    "\n",
    "The explanation of the parameters is the following:\n",
    "\n",
    "1. `chr_y`: identifier of Y chromosome in plink binary files.\n",
    "2. `miss_data_rate`: Missing data rate for variants.\n",
    "3. `diff_genotype_rate`: Different genotype rate.\n",
    "4. `geno`: Parameter `--geno` of **PLINK1.9**.\n",
    "5. `hwe`: Parameter `--hwe` of **PLINk1.9**.\n",
    "6. `maf`: Parameter `--maf` of **PLINK1.9**."
   ]
  },
  {
   "cell_type": "code",
   "execution_count": null,
   "metadata": {},
   "outputs": [],
   "source": [
    "variant_params = {\n",
    "    'chr_y': 24,\n",
    "    'miss_data_rate': 0.2,\n",
    "    'diff_genotype_rate': 1e-5,\n",
    "    'geno': 0.1,\n",
    "    'maf': 5e-8,\n",
    "    'hwe': 5e-8,\n",
    "}"
   ]
  },
  {
   "cell_type": "markdown",
   "metadata": {},
   "source": [
    "Initialize the class `VariantQC`."
   ]
  },
  {
   "cell_type": "code",
   "execution_count": null,
   "metadata": {},
   "outputs": [],
   "source": [
    "variant = VariantQC(\n",
    "    input_path=input_path,\n",
    "    input_name=input_name,\n",
    "    output_path=output_path,\n",
    "    output_name=output_name,\n",
    ")"
   ]
  },
  {
   "cell_type": "code",
   "execution_count": null,
   "metadata": {},
   "outputs": [],
   "source": [
    "variant_qc_steps = {\n",
    "    'Missing data rate'         : (variant.execute_missing_data_rate, {'chr_y': variant_params['chr_y']}),\n",
    "    'Different genotype'        : (variant.execute_different_genotype_call_rate, {}),\n",
    "    'Hardy-Weinberg equilibrium' : (variant.execute_hwe_test, {}),\n",
    "}\n",
    "\n",
    "step_description = {\n",
    "    'Missing data rate'         : 'Compute missing data rate for males and females',\n",
    "    'Different genotype'        : 'Case/control nonrandom missingness test',\n",
    "    'Hardy-Weinberg equilibrium' : 'Hardy-Weinberg equilibrium test',\n",
    "}\n",
    "\n",
    "for name, (func, params) in variant_qc_steps.items():\n",
    "    print(f\"\\033[1m{step_description[name]}.\\033[0m\")\n",
    "    func(**params)"
   ]
  },
  {
   "cell_type": "markdown",
   "metadata": {},
   "source": [
    "Small dashboard with a report of the variant failing QC steps."
   ]
  },
  {
   "cell_type": "code",
   "execution_count": null,
   "metadata": {},
   "outputs": [],
   "source": [
    "variant.get_fail_variants(\n",
    "    marker_call_rate_thres=variant_params['miss_data_rate'], \n",
    "    case_controls_thres=variant_params['diff_genotype_rate'],\n",
    "    hwe_threshold=variant_params['hwe'],\n",
    ")"
   ]
  },
  {
   "cell_type": "code",
   "execution_count": null,
   "metadata": {},
   "outputs": [],
   "source": [
    "variant.execute_drop_variants(geno=variant_params['geno'], hwe=variant_params['hwe'], maf=variant_params['maf'])"
   ]
  }
 ],
 "metadata": {
  "kernelspec": {
   "display_name": "ideal-genom-qc-6U2l_yTg-py3.12",
   "language": "python",
   "name": "python3"
  },
  "language_info": {
   "codemirror_mode": {
    "name": "ipython",
    "version": 3
   },
   "file_extension": ".py",
   "mimetype": "text/x-python",
   "name": "python",
   "nbconvert_exporter": "python",
   "pygments_lexer": "ipython3",
   "version": "3.12.3"
  }
 },
 "nbformat": 4,
 "nbformat_minor": 2
}
