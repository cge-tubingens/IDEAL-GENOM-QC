{
 "cells": [
  {
   "cell_type": "code",
   "execution_count": 1,
   "metadata": {},
   "outputs": [
    {
     "name": "stderr",
     "output_type": "stream",
     "text": [
      "/home/luis/CGE/cge-comrare-pipeline/cge_comrare_pipeline/VariantQC.py:273: SyntaxWarning: invalid escape sequence '\\s'\n",
      "  sep='\\s+'\n"
     ]
    }
   ],
   "source": [
    "import sys\n",
    "import os\n",
    "\n",
    "import pandas as pd\n",
    "\n",
    "# add parent directory to path\n",
    "library_path = os.path.abspath('..')\n",
    "if library_path not in sys.path:\n",
    "    sys.path.append(library_path)\n",
    "\n",
    "from cge_comrare_pipeline.VariantQC import VariantQC"
   ]
  },
  {
   "cell_type": "code",
   "execution_count": 2,
   "metadata": {},
   "outputs": [
    {
     "data": {
      "application/vnd.jupyter.widget-view+json": {
       "model_id": "ce7167fe1b4740eabddd3252fd5ba117",
       "version_major": 2,
       "version_minor": 0
      },
      "text/plain": [
       "Text(value='/home/luis/data/rawdata-sexupdated/outputData/', description='Path to input plink1.9 files:', styl…"
      ]
     },
     "metadata": {},
     "output_type": "display_data"
    },
    {
     "data": {
      "application/vnd.jupyter.widget-view+json": {
       "model_id": "d9904b23072145c6be842339b7be3be1",
       "version_major": 2,
       "version_minor": 0
      },
      "text/plain": [
       "Text(value='luxgiant_res-clean-samples', description='Name of the plink1.9 files:', style=TextStyle(descriptio…"
      ]
     },
     "metadata": {},
     "output_type": "display_data"
    },
    {
     "data": {
      "application/vnd.jupyter.widget-view+json": {
       "model_id": "b30b8d0b58bd4fab87c49293f5a7fa95",
       "version_major": 2,
       "version_minor": 0
      },
      "text/plain": [
       "Text(value='/home/luis/data/rawdata-sexupdated/outputData/', description='Path to output files:', style=TextSt…"
      ]
     },
     "metadata": {},
     "output_type": "display_data"
    },
    {
     "data": {
      "application/vnd.jupyter.widget-view+json": {
       "model_id": "e843c641f515424fa28d5d506e7ac5cd",
       "version_major": 2,
       "version_minor": 0
      },
      "text/plain": [
       "Text(value='luxgiant_res', description='Name of the resulting files:', style=TextStyle(description_width='init…"
      ]
     },
     "metadata": {},
     "output_type": "display_data"
    }
   ],
   "source": [
    "import ipywidgets as widgets\n",
    "from IPython.display import display\n",
    "\n",
    "# Create interactive widgets for input\n",
    "input_path = widgets.Text(\n",
    "    value='/home/luis/data/rawdata-sexupdated/outputData/',\n",
    "    description='Path to input plink1.9 files:',\n",
    "    style={'description_width': 'initial'}\n",
    ")\n",
    "\n",
    "input_name = widgets.Text(\n",
    "    value='luxgiant_res-clean-samples',\n",
    "    description='Name of the plink1.9 files:',\n",
    "    style={'description_width': 'initial'}\n",
    ")\n",
    "\n",
    "output_path = widgets.Text(\n",
    "    value='/home/luis/data/rawdata-sexupdated/outputData/',\n",
    "    description='Path to output files:',\n",
    "    style={'description_width': 'initial'}\n",
    ")\n",
    "output_name = widgets.Text(\n",
    "    value='luxgiant_res',\n",
    "    description='Name of the resulting files:',\n",
    "    style={'description_width': 'initial'}\n",
    ")\n",
    "# Display the widgets\n",
    "display(input_path, input_name, output_path, output_name)\n",
    "\n",
    "# Function to get the text parameter values\n",
    "def get_params():\n",
    "    return input_path.value, input_name.value, output_path.value, output_name.value"
   ]
  },
  {
   "cell_type": "code",
   "execution_count": 3,
   "metadata": {},
   "outputs": [
    {
     "name": "stdout",
     "output_type": "stream",
     "text": [
      "Input Path: /home/luis/data/rawdata-sexupdated/outputData/\n",
      "Input Name: luxgiant_res-clean-samples\n",
      "Output Path: /home/luis/data/rawdata-sexupdated/outputData/\n",
      "Output Name: luxgiant_res\n"
     ]
    }
   ],
   "source": [
    "# Use the parameter values\n",
    "path_params = get_params()\n",
    "print(f\"Input Path: {path_params[0]}\")\n",
    "print(f\"Input Name: {path_params[1]}\")\n",
    "print(f\"Output Path: {path_params[2]}\")\n",
    "print(f\"Output Name: {path_params[3]}\")"
   ]
  },
  {
   "cell_type": "code",
   "execution_count": 4,
   "metadata": {},
   "outputs": [
    {
     "data": {
      "application/vnd.jupyter.widget-view+json": {
       "model_id": "54490d133d184291b4d782be559e6eb8",
       "version_major": 2,
       "version_minor": 0
      },
      "text/plain": [
       "IntText(value=24, description='mind (float):', style=DescriptionStyle(description_width='initial'))"
      ]
     },
     "metadata": {},
     "output_type": "display_data"
    },
    {
     "data": {
      "application/vnd.jupyter.widget-view+json": {
       "model_id": "38c3ff3d1eb94e2ba678d16294affb1b",
       "version_major": 2,
       "version_minor": 0
      },
      "text/plain": [
       "FloatText(value=0.2, description='Missing data rate for variants (float):', style=DescriptionStyle(description…"
      ]
     },
     "metadata": {},
     "output_type": "display_data"
    },
    {
     "data": {
      "application/vnd.jupyter.widget-view+json": {
       "model_id": "b1fc1d47f4dd45bd9e57ce33f8f1459d",
       "version_major": 2,
       "version_minor": 0
      },
      "text/plain": [
       "FloatText(value=0.05, description='Different genotype rate (float):', style=DescriptionStyle(description_width…"
      ]
     },
     "metadata": {},
     "output_type": "display_data"
    }
   ],
   "source": [
    "# Create interactive widgets for list input\n",
    "\n",
    "chr_y = widgets.IntText(\n",
    "    value=24,  # Default value\n",
    "    description='mind (float):',\n",
    "    style={'description_width': 'initial'}\n",
    ")\n",
    "\n",
    "miss_data_rate = widgets.FloatText(\n",
    "    value=0.2,  # Default value\n",
    "    description='Missing data rate for variants (float):',\n",
    "    style={'description_width': 'initial'}\n",
    ")\n",
    "\n",
    "diff_genotype_rate = widgets.FloatText(\n",
    "    value=0.05,  # Default value\n",
    "    description='Different genotype rate (float):',\n",
    "    style={'description_width': 'initial'}\n",
    ")\n",
    "\n",
    "# display the widgets\n",
    "display(chr_y, miss_data_rate, diff_genotype_rate)\n",
    "\n",
    "def get_sample_qc_params():\n",
    "\n",
    "    variant_qc_params = dict()\n",
    "\n",
    "    variant_qc_params['chr-y'] = chr_y.value\n",
    "    variant_qc_params['miss_data_rate']= miss_data_rate.value\n",
    "    variant_qc_params['diff_genotype_rate'] = diff_genotype_rate.value\n",
    "    \n",
    "    return variant_qc_params"
   ]
  },
  {
   "cell_type": "code",
   "execution_count": 5,
   "metadata": {},
   "outputs": [
    {
     "data": {
      "text/plain": [
       "{'chr-y': 24, 'miss_data_rate': 0.2, 'diff_genotype_rate': 0.05}"
      ]
     },
     "execution_count": 5,
     "metadata": {},
     "output_type": "execute_result"
    }
   ],
   "source": [
    "variant_params = get_sample_qc_params()\n",
    "variant_params"
   ]
  },
  {
   "cell_type": "code",
   "execution_count": 6,
   "metadata": {},
   "outputs": [],
   "source": [
    "variant = VariantQC(\n",
    "    input_path      =input_path.value,\n",
    "    input_name      =input_name.value,\n",
    "    output_path     =output_path.value,\n",
    "    output_name     =output_name.value\n",
    ")"
   ]
  },
  {
   "cell_type": "code",
   "execution_count": 7,
   "metadata": {},
   "outputs": [
    {
     "name": "stdout",
     "output_type": "stream",
     "text": [
      "\u001b[1mSolve hh warnings by setting to missing.\u001b[0m\n",
      "PLINK v1.90b7.4 64-bit (18 Aug 2024)           www.cog-genomics.org/plink/1.9/\n",
      "(C) 2005-2024 Shaun Purcell, Christopher Chang   GNU General Public License v3\n",
      "Logging to /home/luis/data/rawdata-sexupdated/outputData/variant_qc_results/luxgiant_res-missing-males-only.log.\n",
      "Options in effect:\n",
      "  --bfile /home/luis/data/rawdata-sexupdated/outputData/luxgiant_res-clean-samples\n",
      "  --chr 24\n",
      "  --filter-males\n",
      "  --memory 38281.0\n",
      "  --missing\n",
      "  --out /home/luis/data/rawdata-sexupdated/outputData/variant_qc_results/luxgiant_res-missing-males-only\n",
      "\n",
      "63927 MB RAM detected; reserving 38281 MB for main workspace.\n",
      "5729 out of 1842636 variants loaded from .bim file.\n",
      "11587 people (7749 males, 3838 females) loaded from .fam.\n",
      "11587 phenotype values loaded from .fam.\n",
      "3838 people removed due to gender filter (--filter-males).\n",
      "Using 1 thread (no multithreaded calculations invoked).\n",
      "Before main variant filters, 7749 founders and 0 nonfounders present.\n",
      "Calculating allele frequencies... 10111213141516171819202122232425262728293031323334353637383940414243444546474849505152535455565758596061626364656667686970717273747576777879808182838485868788899091929394959697989 done.\n",
      "Total genotyping rate in remaining samples is 0.979028.\n",
      "--missing: Sample missing data report written to\n",
      "/home/luis/data/rawdata-sexupdated/outputData/variant_qc_results/luxgiant_res-missing-males-only.imiss,\n",
      "and variant-based missing data report written to\n",
      "/home/luis/data/rawdata-sexupdated/outputData/variant_qc_results/luxgiant_res-missing-males-only.lmiss.\n",
      "Warning: 5314 het. haploid genotypes present (see\n",
      "/home/luis/data/rawdata-sexupdated/outputData/variant_qc_results/luxgiant_res-missing-males-only.hh\n",
      "); many commands treat these as missing.\n",
      "\n",
      "PLINK v1.90b7.4 64-bit (18 Aug 2024)           www.cog-genomics.org/plink/1.9/\n",
      "(C) 2005-2024 Shaun Purcell, Christopher Chang   GNU General Public License v3\n",
      "Logging to /home/luis/data/rawdata-sexupdated/outputData/variant_qc_results/luxgiant_res-missing-not-y.log.\n",
      "Options in effect:\n",
      "  --bfile /home/luis/data/rawdata-sexupdated/outputData/luxgiant_res-clean-samples\n",
      "  --memory 38281.0\n",
      "  --missing\n",
      "  --not-chr 24\n",
      "  --out /home/luis/data/rawdata-sexupdated/outputData/variant_qc_results/luxgiant_res-missing-not-y\n",
      "\n",
      "63927 MB RAM detected; reserving 38281 MB for main workspace.\n",
      "1836907 out of 1842636 variants loaded from .bim file.\n",
      "11587 people (7749 males, 3838 females) loaded from .fam.\n",
      "11587 phenotype values loaded from .fam.\n",
      "Using 1 thread (no multithreaded calculations invoked).\n",
      "Before main variant filters, 11587 founders and 0 nonfounders present.\n",
      "Calculating allele frequencies... 10111213141516171819202122232425262728293031323334353637383940414243444546474849505152535455565758596061626364656667686970717273747576777879808182838485868788899091929394959697989 done.\n",
      "Total genotyping rate is 0.993394.\n",
      "--missing: Sample missing data report written to\n",
      "/home/luis/data/rawdata-sexupdated/outputData/variant_qc_results/luxgiant_res-missing-not-y.imiss,\n",
      "and variant-based missing data report written to\n",
      "/home/luis/data/rawdata-sexupdated/outputData/variant_qc_results/luxgiant_res-missing-not-y.lmiss.\n",
      "Warning: 2776501 het. haploid genotypes present (see\n",
      "/home/luis/data/rawdata-sexupdated/outputData/variant_qc_results/luxgiant_res-missing-not-y.hh\n",
      "); many commands treat these as missing.\n",
      "\n",
      "\u001b[1mPerform LD pruning.\u001b[0m\n",
      "PLINK v1.90b7.4 64-bit (18 Aug 2024)           www.cog-genomics.org/plink/1.9/\n",
      "(C) 2005-2024 Shaun Purcell, Christopher Chang   GNU General Public License v3\n",
      "Logging to /home/luis/data/rawdata-sexupdated/outputData/variant_qc_results/luxgiant_res-case-control-missing.log.\n",
      "Options in effect:\n",
      "  --bfile /home/luis/data/rawdata-sexupdated/outputData/luxgiant_res-clean-samples\n",
      "  --memory 38284.0\n",
      "  --out /home/luis/data/rawdata-sexupdated/outputData/variant_qc_results/luxgiant_res-case-control-missing\n",
      "  --test-missing\n",
      "\n",
      "63927 MB RAM detected; reserving 38284 MB for main workspace.\n",
      "1842636 variants loaded from .bim file.\n",
      "11587 people (7749 males, 3838 females) loaded from .fam.\n",
      "11587 phenotype values loaded from .fam.\n",
      "Using 1 thread (no multithreaded calculations invoked).\n",
      "Before main variant filters, 11587 founders and 0 nonfounders present.\n",
      "Calculating allele frequencies... 10111213141516171819202122232425262728293031323334353637383940414243444546474849505152535455565758596061626364656667686970717273747576777879808182838485868788899091929394959697989 done.\n",
      "Total genotyping rate is 0.993349.\n",
      "1842636 variants and 11587 people pass filters and QC.\n",
      "Among remaining phenotypes, 4980 are cases and 6607 are controls.\n",
      "Writing --test-missing report to\n",
      "/home/luis/data/rawdata-sexupdated/outputData/variant_qc_results/luxgiant_res-case-control-missing.missing\n",
      "... done.\n",
      "Warning: 2781815 het. haploid genotypes present (see\n",
      "/home/luis/data/rawdata-sexupdated/outputData/variant_qc_results/luxgiant_res-case-control-missing.hh\n",
      "); many commands treat these as missing.\n",
      "Warning: Nonmissing nonmale Y chromosome genotype(s) present; many commands\n",
      "treat these as missing.\n",
      "\n"
     ]
    }
   ],
   "source": [
    "variant_qc_steps = {\n",
    "    'Missing data rate'         : (variant.execute_missing_data_rate, (variant_params['chr-y'],)),\n",
    "    'Different genotype'        : (variant.execute_different_genotype_call_rate, ())\n",
    "}\n",
    "\n",
    "step_description = {\n",
    "    'Missing data rate'         : 'Solve hh warnings by setting to missing',\n",
    "    'Different genotype'        : 'Perform LD pruning'\n",
    "}\n",
    "\n",
    "for name, (func, params) in variant_qc_steps.items():\n",
    "    print(f\"\\033[1m{step_description[name]}.\\033[0m\")\n",
    "    func(*params)"
   ]
  },
  {
   "cell_type": "code",
   "execution_count": 8,
   "metadata": {},
   "outputs": [
    {
     "data": {
      "text/plain": [
       "Failure\n",
       "Different genotype call rate    91045\n",
       "Missin data rate on females      9886\n",
       "Missin data rate on males           9\n",
       "Name: count, dtype: int64"
      ]
     },
     "execution_count": 8,
     "metadata": {},
     "output_type": "execute_result"
    }
   ],
   "source": [
    "variant.get_fail_variants()"
   ]
  },
  {
   "cell_type": "code",
   "execution_count": null,
   "metadata": {},
   "outputs": [],
   "source": []
  },
  {
   "cell_type": "code",
   "execution_count": null,
   "metadata": {},
   "outputs": [],
   "source": []
  },
  {
   "cell_type": "code",
   "execution_count": null,
   "metadata": {},
   "outputs": [],
   "source": []
  }
 ],
 "metadata": {
  "kernelspec": {
   "display_name": "cge-comrare-pipeline-AOnVxG3n-py3.12",
   "language": "python",
   "name": "python3"
  },
  "language_info": {
   "codemirror_mode": {
    "name": "ipython",
    "version": 3
   },
   "file_extension": ".py",
   "mimetype": "text/x-python",
   "name": "python",
   "nbconvert_exporter": "python",
   "pygments_lexer": "ipython3",
   "version": "3.12.3"
  }
 },
 "nbformat": 4,
 "nbformat_minor": 2
}
