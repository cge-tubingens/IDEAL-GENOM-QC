{
 "cells": [
  {
   "cell_type": "code",
   "execution_count": 1,
   "metadata": {},
   "outputs": [],
   "source": [
    "import sys\n",
    "import os\n",
    "\n",
    "# add parent directory to path\n",
    "library_path = os.path.abspath('..')\n",
    "if library_path not in sys.path:\n",
    "    sys.path.append(library_path)\n",
    "\n",
    "from cge_comrare_pipeline.SampleQC import SampleQC"
   ]
  },
  {
   "cell_type": "code",
   "execution_count": 3,
   "metadata": {},
   "outputs": [
    {
     "data": {
      "application/vnd.jupyter.widget-view+json": {
       "model_id": "5c96769d60a7429e8846a642beb404e9",
       "version_major": 2,
       "version_minor": 0
      },
      "text/plain": [
       "Text(value='', description='Path to input plink1.9 files:', style=TextStyle(description_width='initial'))"
      ]
     },
     "metadata": {},
     "output_type": "display_data"
    },
    {
     "data": {
      "application/vnd.jupyter.widget-view+json": {
       "model_id": "cffd02f089a6447cb0e31a2e33b5c0e6",
       "version_major": 2,
       "version_minor": 0
      },
      "text/plain": [
       "Text(value='', description='Name of the plink1.9 files:', style=TextStyle(description_width='initial'))"
      ]
     },
     "metadata": {},
     "output_type": "display_data"
    },
    {
     "data": {
      "application/vnd.jupyter.widget-view+json": {
       "model_id": "9346e4505f0f4f7ab5fdded6f6a206ea",
       "version_major": 2,
       "version_minor": 0
      },
      "text/plain": [
       "Text(value='', description='Path to dependable files:', style=TextStyle(description_width='initial'))"
      ]
     },
     "metadata": {},
     "output_type": "display_data"
    },
    {
     "data": {
      "application/vnd.jupyter.widget-view+json": {
       "model_id": "6d08edeeb0724e04b6f0acc47f163908",
       "version_major": 2,
       "version_minor": 0
      },
      "text/plain": [
       "Text(value='', description='Path to output files:', style=TextStyle(description_width='initial'))"
      ]
     },
     "metadata": {},
     "output_type": "display_data"
    },
    {
     "data": {
      "application/vnd.jupyter.widget-view+json": {
       "model_id": "379d74967448469da9ff949d12d1f77c",
       "version_major": 2,
       "version_minor": 0
      },
      "text/plain": [
       "Text(value='', description='Name of the resulting files:', style=TextStyle(description_width='initial'))"
      ]
     },
     "metadata": {},
     "output_type": "display_data"
    }
   ],
   "source": [
    "import ipywidgets as widgets\n",
    "from IPython.display import display\n",
    "\n",
    "# Create interactive widgets for input\n",
    "input_path = widgets.Text(\n",
    "    value='',\n",
    "    description='Path to input plink1.9 files:',\n",
    "    style={'description_width': 'initial'}\n",
    ")\n",
    "\n",
    "input_name = widgets.Text(\n",
    "    value='',\n",
    "    description='Name of the plink1.9 files:',\n",
    "    style={'description_width': 'initial'}\n",
    ")\n",
    "\n",
    "dependables_path = widgets.Text(\n",
    "    value='',\n",
    "    description='Path to dependable files:',\n",
    "    style={'description_width': 'initial'}\n",
    ")\n",
    "\n",
    "output_path = widgets.Text(\n",
    "    value='',\n",
    "    description='Path to output files:',\n",
    "    style={'description_width': 'initial'}\n",
    ")\n",
    "output_name = widgets.Text(\n",
    "    value='',\n",
    "    description='Name of the resulting files:',\n",
    "    style={'description_width': 'initial'}\n",
    ")\n",
    "# Display the widgets\n",
    "display(input_path, input_name, dependables_path, output_path, output_name)\n",
    "\n",
    "# Function to get the text parameter values\n",
    "def get_params():\n",
    "    return input_path.value, input_name.value, dependables_path.value, output_path.value, output_name.value"
   ]
  },
  {
   "cell_type": "code",
   "execution_count": 4,
   "metadata": {},
   "outputs": [
    {
     "name": "stdout",
     "output_type": "stream",
     "text": [
      "Input Path: /home/luis/data/rawdata-sexupdated/inputData\n",
      "Input Name: luxgiant_data_combined_12098-updated-sex\n",
      "Dependables: luxgiant_res\n",
      "Output Path: /home/luis/data/rawdata-sexupdated/outputData\n",
      "Output Name: /home/luis/data/rawdata-sexupdated/dependables\n"
     ]
    }
   ],
   "source": [
    "# Use the parameter values\n",
    "path_params = get_params()\n",
    "print(f\"Input Path: {path_params[0]}\")\n",
    "print(f\"Input Name: {path_params[1]}\")\n",
    "print(f\"Dependables: {path_params[2]}\")\n",
    "print(f\"Output Path: {path_params[3]}\")\n",
    "print(f\"Output Name: {path_params[4]}\")"
   ]
  },
  {
   "cell_type": "code",
   "execution_count": null,
   "metadata": {},
   "outputs": [
    {
     "data": {
      "application/vnd.jupyter.widget-view+json": {
       "model_id": "cdf7d553be1a4d4aaa403eb3ec3efe59",
       "version_major": 2,
       "version_minor": 0
      },
      "text/plain": [
       "Textarea(value='50, 5, 0.2', description='indep pairwise (comma-separated):', style=TextStyle(description_widt…"
      ]
     },
     "metadata": {},
     "output_type": "display_data"
    },
    {
     "data": {
      "application/vnd.jupyter.widget-view+json": {
       "model_id": "576f6e9fcc9047ff953a55a6de95dfa8",
       "version_major": 2,
       "version_minor": 0
      },
      "text/plain": [
       "FloatText(value=0.2, description='mind (float):', style=DescriptionStyle(description_width='initial'))"
      ]
     },
     "metadata": {},
     "output_type": "display_data"
    },
    {
     "data": {
      "application/vnd.jupyter.widget-view+json": {
       "model_id": "612568ed4dba4786b5d6cee7f512faa4",
       "version_major": 2,
       "version_minor": 0
      },
      "text/plain": [
       "Textarea(value='', description='sex check (comma-separated):', style=TextStyle(description_width='initial'))"
      ]
     },
     "metadata": {},
     "output_type": "display_data"
    },
    {
     "data": {
      "application/vnd.jupyter.widget-view+json": {
       "model_id": "1632f6cd19a94724a9b911d448e44d78",
       "version_major": 2,
       "version_minor": 0
      },
      "text/plain": [
       "FloatText(value=0.01, description='maf (float):', style=DescriptionStyle(description_width='initial'))"
      ]
     },
     "metadata": {},
     "output_type": "display_data"
    },
    {
     "data": {
      "application/vnd.jupyter.widget-view+json": {
       "model_id": "a001b1631f5142378f1162e91a8fce3a",
       "version_major": 2,
       "version_minor": 0
      },
      "text/plain": [
       "FloatText(value=0.354, description='mind (float):', style=DescriptionStyle(description_width='initial'))"
      ]
     },
     "metadata": {},
     "output_type": "display_data"
    }
   ],
   "source": [
    "# Create interactive widgets for list input\n",
    "ind_par = widgets.Textarea(\n",
    "    value='50, 5, 0.2',\n",
    "    description='indep pairwise (comma-separated):',\n",
    "    style={'description_width': 'initial'}\n",
    ")\n",
    "\n",
    "mind = widgets.FloatText(\n",
    "    value=0.2,  # Default value\n",
    "    description='mind (float):',\n",
    "    style={'description_width': 'initial'}\n",
    ")\n",
    "\n",
    "sex_check = widgets.Textarea(\n",
    "    value = '',\n",
    "    description='sex check (comma-separated):',\n",
    "    style={'description_width': 'initial'}\n",
    ")\n",
    "\n",
    "maf = widgets.FloatText(\n",
    "    value=0.01,  # Default value\n",
    "    description='maf (float):',\n",
    "    style={'description_width': 'initial'}\n",
    ")\n",
    "\n",
    "kingship = widgets.FloatText(\n",
    "    value=0.354,  # Default value\n",
    "    description='mind (float):',\n",
    "    style={'description_width': 'initial'}\n",
    ")\n",
    "\n",
    "# display the widgets\n",
    "display(ind_par, mind, sex_check, maf, kingship)\n",
    "\n",
    "def get_sample_qc_params():\n",
    "\n",
    "    sample_qc_params = dict()\n",
    "\n",
    "    indep = ind_par.value.split(',')\n",
    "    sex = sex_check.value.split(',')\n",
    "\n",
    "    sample_qc_params['maf'] = maf.value\n",
    "    sample_qc_params['mind']= mind.value\n",
    "    sample_qc_params['kingship'] = kingship.value\n",
    "    sample_qc_params['indep'] = [int(indep[0]), int(indep[1]), float(indep[2])]\n",
    "    if sex!=['']:\n",
    "        sample_qc_params['sex_check'] = [float(x) for x in sex]\n",
    "    else:\n",
    "        sample_qc_params['sex_check'] = []\n",
    "\n",
    "    return sample_qc_params"
   ]
  },
  {
   "cell_type": "code",
   "execution_count": 10,
   "metadata": {},
   "outputs": [
    {
     "name": "stdout",
     "output_type": "stream",
     "text": [
      "['']\n"
     ]
    },
    {
     "data": {
      "text/plain": [
       "{'maf': 0.01,\n",
       " 'mind': 0.2,\n",
       " 'kingship': 0.354,\n",
       " 'indep': [50, 5, 0.2],\n",
       " 'sex_check': []}"
      ]
     },
     "execution_count": 10,
     "metadata": {},
     "output_type": "execute_result"
    }
   ],
   "source": [
    "sample_params = get_sample_qc_params()\n",
    "sample_params"
   ]
  },
  {
   "cell_type": "code",
   "execution_count": null,
   "metadata": {},
   "outputs": [],
   "source": [
    "sample = SampleQC(\n",
    "    input_path      =input_path.value,\n",
    "    input_name      =input_name.value,\n",
    "    output_path     =output_path.value,\n",
    "    output_name     =output_name.value,\n",
    "    dependables_path=dependables_path.value,\n",
    ")"
   ]
  }
 ],
 "metadata": {
  "kernelspec": {
   "display_name": "cge-comrare-pipeline-AOnVxG3n-py3.12",
   "language": "python",
   "name": "python3"
  },
  "language_info": {
   "codemirror_mode": {
    "name": "ipython",
    "version": 3
   },
   "file_extension": ".py",
   "mimetype": "text/x-python",
   "name": "python",
   "nbconvert_exporter": "python",
   "pygments_lexer": "ipython3",
   "version": "3.12.3"
  }
 },
 "nbformat": 4,
 "nbformat_minor": 2
}
