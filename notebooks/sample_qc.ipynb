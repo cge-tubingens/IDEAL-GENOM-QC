{
 "cells": [
  {
   "cell_type": "markdown",
   "metadata": {},
   "source": [
    "# Example notebook of a Sample QC analysis\n",
    "\n",
    "The present notebook serves as a guide of how use the `IDEAL-GENOM-QC` library to perform a sample quality control. We intend to show a possible use, because each user can adapt it to its particular needs.\n",
    "\n",
    "In this notebook the procedure to perform the sample quality control is more detailed so the user can get a deeper understanding of all the steps executed in this part of the pipeline.\n",
    "\n",
    "Let us import the required libraries."
   ]
  },
  {
   "cell_type": "code",
   "execution_count": null,
   "metadata": {},
   "outputs": [],
   "source": [
    "import sys\n",
    "import os\n",
    "\n",
    "import pandas as pd\n",
    "\n",
    "from pathlib import Path\n",
    "\n",
    "# add parent directory to path\n",
    "library_path = os.path.abspath('..')\n",
    "if library_path not in sys.path:\n",
    "    sys.path.append(library_path)\n",
    "\n",
    "from ideal_genom_qc.SampleQC import SampleQC"
   ]
  },
  {
   "cell_type": "markdown",
   "metadata": {},
   "source": [
    "In the next cell the path variables associated with the project are set.\n",
    "\n",
    "Moreover, since each user can have a slightly different choices for the LD regions, the user can provide its own file. Nevertheless, we provide the functionality of automatically fetching high LD regions for builts **GRCh37** and **GRCH38**."
   ]
  },
  {
   "cell_type": "markdown",
   "metadata": {},
   "source": [
    "Let us set the path parameters to execute the sample QC."
   ]
  },
  {
   "cell_type": "code",
   "execution_count": null,
   "metadata": {},
   "outputs": [],
   "source": [
    "input_path = Path('path/to/inputData')\n",
    "input_name = 'input_prefix'\n",
    "output_path=  Path('path/to/outputData')\n",
    "output_name= 'output_prefix'\n",
    "high_ld_file = Path('path/to/ld-regions/file') # if not available, set to None"
   ]
  },
  {
   "cell_type": "markdown",
   "metadata": {},
   "source": [
    "In the next cell we define a dictionary containing the parameters to execute the sample QC pipeline.\n",
    "\n",
    "The explanation of the parameters is the following:\n",
    "\n",
    "1. `rename_snp`: if `True` the pipeline will change the SNPs identifiers to the format chr_pos_a1_a2.\n",
    "2. `hh_to_missing`: if `True` the pipeline sets heterozygous haploid to missing, check **PLINK1.9** command `--set-hh-missing` for more details.\n",
    "3. `use_kingship`: if `True` the pipeline will use the kingship estimator for duplicates and relatedness check.\n",
    "4. `ind_pair`: parameters of **PLINK1.9** `--indep-pairwise`.\n",
    "5. `mind`: parameter of **PLINK1.9** `--mind`.\n",
    "6. `sex_check`: parameters of **PLINK1.9** `--sex-check`.\n",
    "7. `maf`: minor allele frequency, parameter of **PLINK1.9** `--maf`.\n",
    "8. `het_deviation`: values of deviation from heterozigosity.\n",
    "9. `kingship`: parameters of **PLINK1.9** `--king-cutoff`.\n",
    "10. `ibd_threshold`: threshold to filter samples according to IBD."
   ]
  },
  {
   "cell_type": "code",
   "execution_count": null,
   "metadata": {},
   "outputs": [],
   "source": [
    "sample_params = {\n",
    "    \"rename_snp\"   : True,\n",
    "    \"hh_to_missing\": True,\n",
    "    \"use_kingship\" : True,\n",
    "    \"ind_pair\"     : [50, 5, 0.2],\n",
    "    \"mind\"         : 0.2,\n",
    "    \"sex_check\"    : [0.2, 0.8],\n",
    "    \"maf\"          : 0.01,\n",
    "    \"het_deviation\": 3,\n",
    "    \"kingship\"     : 0.354,\n",
    "    \"ibd_threshold\": 0.185\n",
    "}"
   ]
  },
  {
   "cell_type": "markdown",
   "metadata": {},
   "source": [
    "Initialize the class `SampleQC`."
   ]
  },
  {
   "cell_type": "code",
   "execution_count": null,
   "metadata": {},
   "outputs": [],
   "source": [
    "sample = SampleQC(\n",
    "    input_path      =input_path,\n",
    "    input_name      =input_name,\n",
    "    output_path     =output_path,\n",
    "    output_name     =output_name,\n",
    "    high_ld_file    =high_ld_file,\n",
    "    built           ='38', # '38' it is the default value \n",
    ")"
   ]
  },
  {
   "cell_type": "markdown",
   "metadata": {},
   "source": [
    "Execute the pipeline steps of the sample quality control. Since the ides of a notebook is to build a more interactive interface, the next steps do not drop the samples failing QC, they just find the samples."
   ]
  },
  {
   "cell_type": "code",
   "execution_count": null,
   "metadata": {},
   "outputs": [],
   "source": [
    "sample_qc_steps = {\n",
    "    'rename SNPs'           : (sample.execute_rename_snpid, {\"rename\": sample_params['rename_snp']}),\n",
    "    'hh_to_missing'         : (sample.execute_haploid_to_missing, {\"hh_to_missing\": sample_params['hh_to_missing']}),\n",
    "    'ld_pruning'            : (sample.execute_ld_pruning, {\"ind_pair\": sample_params['ind_pair']}),\n",
    "    'miss_genotype'         : (sample.execute_miss_genotype, { \"mind\": sample_params['mind']}),\n",
    "    'sex_check'             : (sample.execute_sex_check, {\"sex_check\": sample_params['sex_check']}),\n",
    "    'heterozygosity'        : (sample.execute_heterozygosity_rate, {\"maf\": sample_params['maf']}),\n",
    "    'duplicates_relatedness': (sample.execute_duplicate_relatedness, {\"kingship\": sample_params['kingship'], \"use_king\": sample_params['use_kingship']})\n",
    "}\n",
    "\n",
    "step_description = {\n",
    "    'rename SNPs'           : 'Rename SNPs to chr:pos:ref:alt',\n",
    "    'hh_to_missing'         : 'Solve hh warnings by setting to missing',\n",
    "    'ld_pruning'            : 'Perform LD pruning',\n",
    "    'miss_genotype'         : 'Get samples with high missing rate',\n",
    "    'sex_check'             : 'Get samples with discordant sex information',\n",
    "    'heterozygosity'        : 'Get samples with high heterozygosity rate',\n",
    "    'duplicates_relatedness': 'Get samples with high relatedness rate or duplicates'\n",
    "}\n",
    "\n",
    "for name, (func, params) in sample_qc_steps.items():\n",
    "    print(f\"\\033[1m{step_description[name]}.\\033[0m\")\n",
    "    func(**params)"
   ]
  },
  {
   "cell_type": "markdown",
   "metadata": {},
   "source": [
    "Here a small dashboard with a report of the call rate missingness is shown. The cap on the Y-axis can be selected without re-running the whole pipeline, so it can be selected according to each user need. Moreover, the plots could help to choose the best call rate threshold according to the data."
   ]
  },
  {
   "cell_type": "code",
   "execution_count": null,
   "metadata": {},
   "outputs": [],
   "source": [
    "fail_call_rate = sample.report_call_rate(\n",
    "            directory    =sample.results_dir, \n",
    "            filename     =sample.call_rate_miss, \n",
    "            threshold    =sample_params['mind'],\n",
    "            plots_dir    =sample.plots_dir, \n",
    "            y_axis_cap   =10\n",
    "        )"
   ]
  },
  {
   "cell_type": "markdown",
   "metadata": {},
   "source": [
    "Now, the samples failing sex check are collected and a plot is shown where the user can check the number of problematic samples."
   ]
  },
  {
   "cell_type": "code",
   "execution_count": null,
   "metadata": {},
   "outputs": [],
   "source": [
    "fail_sexcheck = sample.report_sex_check(\n",
    "            directory          =sample.results_dir, \n",
    "            sex_check_filename =sample.sexcheck_miss, \n",
    "            xchr_imiss_filename=sample.xchr_miss,\n",
    "            plots_dir          =sample.plots_dir\n",
    "        )"
   ]
  },
  {
   "cell_type": "markdown",
   "metadata": {},
   "source": [
    "Here a small dashboard with a report of the heterozigosity is shown. The cap on the Y-axis can be selected without re-running the whole pipeline, so it can be selected according to each user need. Moreover, the plots could help to choose a different deviation from the mean of the heterozigosity rate. Notice that the analysis has been divided for SNPs having a MAF of less than 1% and those above that threshold."
   ]
  },
  {
   "cell_type": "code",
   "execution_count": null,
   "metadata": {},
   "outputs": [],
   "source": [
    "fail_het_greater = sample.report_heterozygosity_rate(\n",
    "            directory           = sample.results_dir, \n",
    "            summary_ped_filename= sample.summary_greater, \n",
    "            autosomal_filename  = sample.maf_greater_miss, \n",
    "            std_deviation_het   = sample_params['het_deviation'],\n",
    "            maf                 = sample_params['maf'],\n",
    "            split               = '>',\n",
    "            plots_dir           = sample.plots_dir\n",
    "        )"
   ]
  },
  {
   "cell_type": "code",
   "execution_count": null,
   "metadata": {},
   "outputs": [],
   "source": [
    "fail_het_gless= sample.report_heterozygosity_rate(\n",
    "            directory           = sample.results_dir, \n",
    "            summary_ped_filename= sample.summary_less, \n",
    "            autosomal_filename  = sample.maf_less_miss, \n",
    "            std_deviation_het   = sample_params['het_deviation'],\n",
    "            maf                 = sample_params['maf'],\n",
    "            split               = '<',\n",
    "            plots_dir           = sample.plots_dir\n",
    "        )"
   ]
  },
  {
   "cell_type": "code",
   "execution_count": null,
   "metadata": {},
   "outputs": [],
   "source": [
    "\n",
    "if sample.use_king:\n",
    "    fail_dup_relatednes = pd.read_csv(\n",
    "                sample.kinship_miss,\n",
    "                sep=r'\\s+',\n",
    "                engine='python'\n",
    "            )\n",
    "\n",
    "    # filter samples that failed duplicates and relatedness check\n",
    "    fail_dup_relatednes.columns = ['FID', 'IID']\n",
    "    fail_dup_relatednes['Failure'] = 'Duplicates and relatedness'"
   ]
  },
  {
   "cell_type": "code",
   "execution_count": null,
   "metadata": {},
   "outputs": [],
   "source": [
    "if not sample_params['use_kingship']:\n",
    "\n",
    "    sample.use_king = False\n",
    "\n",
    "    fail_dup_relatednes = sample.report_ibd_analysis(ibd_threshold=0.185)\n",
    "\n",
    "    fail_dup_relatednes"
   ]
  },
  {
   "cell_type": "markdown",
   "metadata": {},
   "source": [
    "All failing samples are collected and concatenated in a single pandas DataFrame and saved. A summary of the amount of samples failing each step is shown. "
   ]
  },
  {
   "cell_type": "code",
   "execution_count": null,
   "metadata": {},
   "outputs": [],
   "source": [
    "df_fails = pd.concat(\n",
    "    [fail_call_rate, fail_sexcheck, fail_het_greater, fail_het_gless, fail_dup_relatednes],\n",
    "    ignore_index=True\n",
    ")\n",
    "\n",
    "total_fails = df_fails.shape[0]\n",
    "duplicates = df_fails.duplicated(subset=['FID', 'IID']).sum()\n",
    "summary = df_fails['Failure'].value_counts().reset_index()\n",
    "\n",
    "df_fails = df_fails.drop_duplicates(subset=['FID', 'IID'])\n",
    "\n",
    "df_fails.to_csv(\n",
    "    os.path.join(sample.fails_dir, 'fail_samples.txt'), sep='\\t',\n",
    "    index=False\n",
    ")"
   ]
  },
  {
   "cell_type": "code",
   "execution_count": null,
   "metadata": {},
   "outputs": [],
   "source": [
    "summary"
   ]
  },
  {
   "cell_type": "code",
   "execution_count": null,
   "metadata": {},
   "outputs": [],
   "source": [
    "print('Total samples failing QC: ', total_fails)\n",
    "print('Number of duplicated samples: ', duplicates)\n",
    "print('Unique samples failing QC: ', total_fails-duplicates)"
   ]
  },
  {
   "cell_type": "markdown",
   "metadata": {},
   "source": [
    "Finally, the failing samples are dropped and cleaned `PLINK` files are generated."
   ]
  },
  {
   "cell_type": "code",
   "execution_count": null,
   "metadata": {},
   "outputs": [],
   "source": [
    "sample.execute_drop_samples()"
   ]
  },
  {
   "cell_type": "markdown",
   "metadata": {},
   "source": [
    "Some intermediate files are deleted to save space."
   ]
  },
  {
   "cell_type": "code",
   "execution_count": null,
   "metadata": {},
   "outputs": [],
   "source": [
    "sample.clean_input_folder()\n",
    "sample.clean_result_folder()"
   ]
  }
 ],
 "metadata": {
  "kernelspec": {
   "display_name": "ideal-genom-qc-6U2l_yTg-py3.12",
   "language": "python",
   "name": "python3"
  },
  "language_info": {
   "codemirror_mode": {
    "name": "ipython",
    "version": 3
   },
   "file_extension": ".py",
   "mimetype": "text/x-python",
   "name": "python",
   "nbconvert_exporter": "python",
   "pygments_lexer": "ipython3",
   "version": "3.12.3"
  }
 },
 "nbformat": 4,
 "nbformat_minor": 2
}
