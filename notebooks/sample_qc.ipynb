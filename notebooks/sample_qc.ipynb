{
 "cells": [
  {
   "cell_type": "markdown",
   "metadata": {},
   "source": [
    "# Example notebook of a Sample QC analysis\n",
    "\n",
    "The present notebook serves as a guide of how use the `IDEAL-QC` library to perform a sample quality control. We intend to show a possible use, because each user can adapt it to its particular needs.\n",
    "\n",
    "The first step is to import the required libraries."
   ]
  },
  {
   "cell_type": "code",
   "execution_count": 1,
   "metadata": {},
   "outputs": [],
   "source": [
    "import sys\n",
    "import os\n",
    "\n",
    "import pandas as pd\n",
    "\n",
    "# add parent directory to path\n",
    "library_path = os.path.abspath('..')\n",
    "if library_path not in sys.path:\n",
    "    sys.path.append(library_path)\n",
    "\n",
    "from cge_comrare_pipeline.SampleQC import SampleQC"
   ]
  },
  {
   "cell_type": "markdown",
   "metadata": {},
   "source": [
    "In the next widgets the user must input the the paths and filenames needed to perform the sample QC.\n",
    "\n",
    "1. `input_path`: the path to the folder where the raw data in PLINK (`.bed`, `.bim`, `.fam`) files is.\n",
    "2. `input_name`: the prefix of the PLINK files. It is not required the name of the three files, since the extension is deduced from the PLINK format.\n",
    "3. `dependables_path`: path to the folder where external files needed to perform the QC are. In this cases, the QC requires a file with high LD regions. The file should be named as `high-LD-regions.txt`.\n",
    "4. `output_path`: the path to the folder where the outputs from each steps are going to be.\n",
    "5. `output_name`: the prefix of the cleaned PLINK files."
   ]
  },
  {
   "cell_type": "code",
   "execution_count": 7,
   "metadata": {},
   "outputs": [
    {
     "data": {
      "application/vnd.jupyter.widget-view+json": {
       "model_id": "61c3367e5a924a87a234abc41570bdfb",
       "version_major": 2,
       "version_minor": 0
      },
      "text/plain": [
       "Text(value='/mnt/0A2AAC152AABFBB7/data/rawdata-sexupdated/inputData', description='Path to input plink1.9 file…"
      ]
     },
     "metadata": {},
     "output_type": "display_data"
    },
    {
     "data": {
      "application/vnd.jupyter.widget-view+json": {
       "model_id": "d512ed7e0d5e453b880c7c1a2d6df683",
       "version_major": 2,
       "version_minor": 0
      },
      "text/plain": [
       "Text(value='luxgiant_data_combined_12098-updated-sex', description='Name of the plink1.9 files:', layout=Layou…"
      ]
     },
     "metadata": {},
     "output_type": "display_data"
    },
    {
     "data": {
      "application/vnd.jupyter.widget-view+json": {
       "model_id": "92d520d47b1d4077a5a70f7c50f517e5",
       "version_major": 2,
       "version_minor": 0
      },
      "text/plain": [
       "Text(value='/mnt/0A2AAC152AABFBB7/data/rawdata-sexupdated/dependables/', description='Path to dependable files…"
      ]
     },
     "metadata": {},
     "output_type": "display_data"
    },
    {
     "data": {
      "application/vnd.jupyter.widget-view+json": {
       "model_id": "4dd3eb8f1527469c84a3bbc614dd958a",
       "version_major": 2,
       "version_minor": 0
      },
      "text/plain": [
       "Text(value='/mnt/0A2AAC152AABFBB7/data/rawdata-sexupdated/outputData/', description='Path to output files:', l…"
      ]
     },
     "metadata": {},
     "output_type": "display_data"
    },
    {
     "data": {
      "application/vnd.jupyter.widget-view+json": {
       "model_id": "83f555d733324895906dc8229dadb578",
       "version_major": 2,
       "version_minor": 0
      },
      "text/plain": [
       "Text(value='luxgiant_res', description='Name of the resulting files:', layout=Layout(width='50%'), style=TextS…"
      ]
     },
     "metadata": {},
     "output_type": "display_data"
    }
   ],
   "source": [
    "import ipywidgets as widgets\n",
    "from IPython.display import display\n",
    "\n",
    "# Create interactive widgets for input\n",
    "input_path = widgets.Text(\n",
    "    value='/mnt/0A2AAC152AABFBB7/data/rawdata-sexupdated/inputData',\n",
    "    description='Path to input plink1.9 files:',\n",
    "    style={'description_width': 'initial'},\n",
    "    layout=widgets.Layout(width='50%')\n",
    ")\n",
    "\n",
    "input_name = widgets.Text(\n",
    "    value='luxgiant_data_combined_12098-updated-sex',\n",
    "    description='Name of the plink1.9 files:',\n",
    "    style={'description_width': 'initial'},\n",
    "    layout=widgets.Layout(width='50%')\n",
    ")\n",
    "\n",
    "dependables_path = widgets.Text(\n",
    "    value='/mnt/0A2AAC152AABFBB7/data/rawdata-sexupdated/dependables/',\n",
    "    description='Path to dependable files:',\n",
    "    style={'description_width': 'initial'},\n",
    "    layout=widgets.Layout(width='50%')\n",
    ")\n",
    "\n",
    "output_path = widgets.Text(\n",
    "    value='/mnt/0A2AAC152AABFBB7/data/rawdata-sexupdated/outputData/',\n",
    "    description='Path to output files:',\n",
    "    style={'description_width': 'initial'},\n",
    "    layout=widgets.Layout(width='50%')\n",
    ")\n",
    "output_name = widgets.Text(\n",
    "    value='luxgiant_res',\n",
    "    description='Name of the resulting files:',\n",
    "    style={'description_width': 'initial'},\n",
    "    layout=widgets.Layout(width='50%')\n",
    ")\n",
    "# Display the widgets\n",
    "display(input_path, input_name, dependables_path, output_path, output_name)\n",
    "\n",
    "# Function to get the text parameter values\n",
    "def get_params():\n",
    "    return input_path.value, input_name.value, dependables_path.value, output_path.value, output_name.value"
   ]
  },
  {
   "cell_type": "code",
   "execution_count": 8,
   "metadata": {},
   "outputs": [
    {
     "name": "stdout",
     "output_type": "stream",
     "text": [
      "Input Path: /mnt/0A2AAC152AABFBB7/data/rawdata-sexupdated/inputData\n",
      "Input Name: luxgiant_data_combined_12098-updated-sex\n",
      "Dependables: /mnt/0A2AAC152AABFBB7/data/rawdata-sexupdated/dependables/\n",
      "Output Path: /mnt/0A2AAC152AABFBB7/data/rawdata-sexupdated/outputData/\n",
      "Output Name: luxgiant_res\n"
     ]
    }
   ],
   "source": [
    "# Use the parameter values\n",
    "path_params = get_params()\n",
    "print(f\"Input Path: {path_params[0]}\")\n",
    "print(f\"Input Name: {path_params[1]}\")\n",
    "print(f\"Dependables: {path_params[2]}\")\n",
    "print(f\"Output Path: {path_params[3]}\")\n",
    "print(f\"Output Name: {path_params[4]}\")"
   ]
  },
  {
   "cell_type": "markdown",
   "metadata": {},
   "source": [
    "In the next widgets, please provide the parameters to run the required commands. Most of them are common `PLINK1.9` and `PLINK2.0` parameters. "
   ]
  },
  {
   "cell_type": "code",
   "execution_count": 9,
   "metadata": {},
   "outputs": [
    {
     "data": {
      "application/vnd.jupyter.widget-view+json": {
       "model_id": "baa75788c20245d58aa895b09e139b32",
       "version_major": 2,
       "version_minor": 0
      },
      "text/plain": [
       "Textarea(value='50, 5, 0.2', description='indep pairwise (comma-separated):', layout=Layout(width='50%'), styl…"
      ]
     },
     "metadata": {},
     "output_type": "display_data"
    },
    {
     "data": {
      "application/vnd.jupyter.widget-view+json": {
       "model_id": "d1d358c7abbc45c3a295438b0f2034c2",
       "version_major": 2,
       "version_minor": 0
      },
      "text/plain": [
       "FloatText(value=0.2, description='mind (float):', layout=Layout(width='50%'), style=DescriptionStyle(descripti…"
      ]
     },
     "metadata": {},
     "output_type": "display_data"
    },
    {
     "data": {
      "application/vnd.jupyter.widget-view+json": {
       "model_id": "8d7501759950478893e9b0d38421e1c6",
       "version_major": 2,
       "version_minor": 0
      },
      "text/plain": [
       "Textarea(value='', description='sex check (comma-separated):', layout=Layout(width='50%'), style=TextStyle(des…"
      ]
     },
     "metadata": {},
     "output_type": "display_data"
    },
    {
     "data": {
      "application/vnd.jupyter.widget-view+json": {
       "model_id": "019c5923773e4f4cabe96d574fb63f53",
       "version_major": 2,
       "version_minor": 0
      },
      "text/plain": [
       "FloatText(value=3.0, description='deviation from the mean heterozigosity rate (float):', layout=Layout(width='…"
      ]
     },
     "metadata": {},
     "output_type": "display_data"
    },
    {
     "data": {
      "application/vnd.jupyter.widget-view+json": {
       "model_id": "c77b5fa8152d48a0bced8e552372aba7",
       "version_major": 2,
       "version_minor": 0
      },
      "text/plain": [
       "FloatText(value=0.01, description='maf (float):', layout=Layout(width='50%'), style=DescriptionStyle(descripti…"
      ]
     },
     "metadata": {},
     "output_type": "display_data"
    },
    {
     "data": {
      "application/vnd.jupyter.widget-view+json": {
       "model_id": "5fe17192773240c68278fb2f56a6c078",
       "version_major": 2,
       "version_minor": 0
      },
      "text/plain": [
       "FloatText(value=0.354, description='mind (float):', layout=Layout(width='50%'), style=DescriptionStyle(descrip…"
      ]
     },
     "metadata": {},
     "output_type": "display_data"
    }
   ],
   "source": [
    "# Create interactive widgets for list input\n",
    "ind_par = widgets.Textarea(\n",
    "    value='50, 5, 0.2',\n",
    "    description='indep pairwise (comma-separated):',\n",
    "    style={'description_width': 'initial'},\n",
    "    layout=widgets.Layout(width='50%')\n",
    ")\n",
    "\n",
    "mind = widgets.FloatText(\n",
    "    value=0.2,  # Default value\n",
    "    description='mind (float):',\n",
    "    style={'description_width': 'initial'},\n",
    "    layout=widgets.Layout(width='50%')\n",
    ")\n",
    "\n",
    "sex_check = widgets.Textarea(\n",
    "    value = '',\n",
    "    description='sex check (comma-separated):',\n",
    "    style={'description_width': 'initial'},\n",
    "    layout=widgets.Layout(width='50%')\n",
    ")\n",
    "\n",
    "het_deviation = widgets.FloatText(\n",
    "    value=3,  # Default value\n",
    "    description='deviation from the mean heterozigosity rate (float):',\n",
    "    style={'description_width': 'initial'},\n",
    "    layout=widgets.Layout(width='50%')\n",
    ")\n",
    "\n",
    "maf = widgets.FloatText(\n",
    "    value=0.01,  # Default value\n",
    "    description='maf (float):',\n",
    "    style={'description_width': 'initial'},\n",
    "    layout=widgets.Layout(width='50%')\n",
    ")\n",
    "\n",
    "kingship = widgets.FloatText(\n",
    "    value=0.354,  # Default value\n",
    "    description='mind (float):',\n",
    "    style={'description_width': 'initial'},\n",
    "    layout=widgets.Layout(width='50%')\n",
    ")\n",
    "\n",
    "# display the widgets\n",
    "display(ind_par, mind, sex_check,het_deviation, maf, kingship)\n",
    "\n",
    "def get_sample_qc_params():\n",
    "\n",
    "    sample_qc_params = dict()\n",
    "\n",
    "    indep = ind_par.value.split(',')\n",
    "    sex = sex_check.value.split(',')\n",
    "\n",
    "    sample_qc_params['maf'] = maf.value\n",
    "    sample_qc_params['mind']= mind.value\n",
    "    sample_qc_params['kingship'] = kingship.value\n",
    "    sample_qc_params['indep'] = [int(indep[0]), int(indep[1]), float(indep[2])]\n",
    "    sample_qc_params['het_deviation'] = het_deviation.value\n",
    "    if sex!=['']:\n",
    "        sample_qc_params['sex_check'] = [float(x) for x in sex]\n",
    "    else:\n",
    "        sample_qc_params['sex_check'] = []\n",
    "\n",
    "    return sample_qc_params"
   ]
  },
  {
   "cell_type": "code",
   "execution_count": 10,
   "metadata": {},
   "outputs": [
    {
     "data": {
      "text/plain": [
       "{'maf': 0.01,\n",
       " 'mind': 0.2,\n",
       " 'kingship': 0.354,\n",
       " 'indep': [50, 5, 0.2],\n",
       " 'het_deviation': 3.0,\n",
       " 'sex_check': []}"
      ]
     },
     "execution_count": 10,
     "metadata": {},
     "output_type": "execute_result"
    }
   ],
   "source": [
    "sample_params = get_sample_qc_params()\n",
    "sample_params"
   ]
  },
  {
   "cell_type": "markdown",
   "metadata": {},
   "source": [
    "Initialize the class `SampleQC`."
   ]
  },
  {
   "cell_type": "code",
   "execution_count": 11,
   "metadata": {},
   "outputs": [
    {
     "ename": "FileNotFoundError",
     "evalue": "input_path or output_path is not a valid path",
     "output_type": "error",
     "traceback": [
      "\u001b[0;31m---------------------------------------------------------------------------\u001b[0m",
      "\u001b[0;31mFileNotFoundError\u001b[0m                         Traceback (most recent call last)",
      "Cell \u001b[0;32mIn[11], line 1\u001b[0m\n\u001b[0;32m----> 1\u001b[0m sample \u001b[38;5;241m=\u001b[39m \u001b[43mSampleQC\u001b[49m\u001b[43m(\u001b[49m\n\u001b[1;32m      2\u001b[0m \u001b[43m    \u001b[49m\u001b[43minput_path\u001b[49m\u001b[43m      \u001b[49m\u001b[38;5;241;43m=\u001b[39;49m\u001b[43minput_path\u001b[49m\u001b[38;5;241;43m.\u001b[39;49m\u001b[43mvalue\u001b[49m\u001b[43m,\u001b[49m\n\u001b[1;32m      3\u001b[0m \u001b[43m    \u001b[49m\u001b[43minput_name\u001b[49m\u001b[43m      \u001b[49m\u001b[38;5;241;43m=\u001b[39;49m\u001b[43minput_name\u001b[49m\u001b[38;5;241;43m.\u001b[39;49m\u001b[43mvalue\u001b[49m\u001b[43m,\u001b[49m\n\u001b[1;32m      4\u001b[0m \u001b[43m    \u001b[49m\u001b[43moutput_path\u001b[49m\u001b[43m     \u001b[49m\u001b[38;5;241;43m=\u001b[39;49m\u001b[43moutput_path\u001b[49m\u001b[38;5;241;43m.\u001b[39;49m\u001b[43mvalue\u001b[49m\u001b[43m,\u001b[49m\n\u001b[1;32m      5\u001b[0m \u001b[43m    \u001b[49m\u001b[43moutput_name\u001b[49m\u001b[43m     \u001b[49m\u001b[38;5;241;43m=\u001b[39;49m\u001b[43moutput_name\u001b[49m\u001b[38;5;241;43m.\u001b[39;49m\u001b[43mvalue\u001b[49m\u001b[43m,\u001b[49m\n\u001b[1;32m      6\u001b[0m \u001b[43m    \u001b[49m\u001b[43mdependables_path\u001b[49m\u001b[38;5;241;43m=\u001b[39;49m\u001b[43mdependables_path\u001b[49m\u001b[38;5;241;43m.\u001b[39;49m\u001b[43mvalue\u001b[49m\u001b[43m,\u001b[49m\n\u001b[1;32m      7\u001b[0m \u001b[43m)\u001b[49m\n",
      "File \u001b[0;32m/mnt/0A2AAC152AABFBB7/CGE/cge-comrare-pipeline/cge_comrare_pipeline/SampleQC.py:68\u001b[0m, in \u001b[0;36mSampleQC.__init__\u001b[0;34m(self, input_path, input_name, output_path, output_name, dependables_path)\u001b[0m\n\u001b[1;32m     65\u001b[0m bim_check \u001b[38;5;241m=\u001b[39m os\u001b[38;5;241m.\u001b[39mpath\u001b[38;5;241m.\u001b[39mexists(bim_path)\n\u001b[1;32m     67\u001b[0m \u001b[38;5;28;01mif\u001b[39;00m \u001b[38;5;129;01mnot\u001b[39;00m os\u001b[38;5;241m.\u001b[39mpath\u001b[38;5;241m.\u001b[39mexists(input_path) \u001b[38;5;129;01mor\u001b[39;00m \u001b[38;5;129;01mnot\u001b[39;00m os\u001b[38;5;241m.\u001b[39mpath\u001b[38;5;241m.\u001b[39mexists(output_path):\n\u001b[0;32m---> 68\u001b[0m     \u001b[38;5;28;01mraise\u001b[39;00m \u001b[38;5;167;01mFileNotFoundError\u001b[39;00m(\u001b[38;5;124m\"\u001b[39m\u001b[38;5;124minput_path or output_path is not a valid path\u001b[39m\u001b[38;5;124m\"\u001b[39m)\n\u001b[1;32m     69\u001b[0m \u001b[38;5;28;01mif\u001b[39;00m \u001b[38;5;129;01mnot\u001b[39;00m bed_check:\n\u001b[1;32m     70\u001b[0m     \u001b[38;5;28;01mraise\u001b[39;00m \u001b[38;5;167;01mFileNotFoundError\u001b[39;00m(\u001b[38;5;124m\"\u001b[39m\u001b[38;5;124m.bed file not found\u001b[39m\u001b[38;5;124m\"\u001b[39m)\n",
      "\u001b[0;31mFileNotFoundError\u001b[0m: input_path or output_path is not a valid path"
     ]
    }
   ],
   "source": [
    "sample = SampleQC(\n",
    "    input_path      =input_path.value,\n",
    "    input_name      =input_name.value,\n",
    "    output_path     =output_path.value,\n",
    "    output_name     =output_name.value,\n",
    "    dependables_path=dependables_path.value,\n",
    ")"
   ]
  },
  {
   "cell_type": "markdown",
   "metadata": {},
   "source": [
    "Execute the pipeline steps of the sample quality control. Since the ides of a notebook is to build a more interactive interface, the next steps do not drop the samples failing QC, they just find the samples."
   ]
  },
  {
   "cell_type": "code",
   "execution_count": null,
   "metadata": {},
   "outputs": [],
   "source": [
    "sample_qc_steps = {\n",
    "    'rename SNPs'           : (sample.execute_rename_snps, (True,)),\n",
    "    'hh_to_missing'         : (sample.execute_haploid_to_missing, ()),\n",
    "    'ld_pruning'            : (sample.execute_ld_pruning, (sample_params['indep'],)),\n",
    "    'miss_genotype'         : (sample.execute_miss_genotype, (sample_params['mind'],)),\n",
    "    'sex_check'             : (sample.execute_sex_check, (sample_params['sex_check'])),\n",
    "    'heterozygosity'        : (sample.execute_heterozygosity_rate, (sample_params['maf'],)),\n",
    "    'duplicates_relatedness': (sample.execute_duplicate_relatedness, (sample_params['kingship'], True,))\n",
    "}\n",
    "\n",
    "step_description = {\n",
    "    'rename SNPs'           : 'Rename SNPs to chr:pos:ref:alt',\n",
    "    'hh_to_missing'         : 'Solve hh warnings by setting to missing',\n",
    "    'ld_pruning'            : 'Perform LD pruning',\n",
    "    'miss_genotype'         : 'Get samples with high missing rate',\n",
    "    'sex_check'             : 'Get samples with discordant sex information',\n",
    "    'heterozygosity'        : 'Get samples with high heterozygosity rate',\n",
    "    'duplicates_relatedness': 'Get samples with high relatedness rate or duplicates'\n",
    "}\n",
    "\n",
    "for name, (func, params) in sample_qc_steps.items():\n",
    "    print(f\"\\033[1m{step_description[name]}.\\033[0m\")\n",
    "    func(*params)"
   ]
  },
  {
   "cell_type": "markdown",
   "metadata": {},
   "source": [
    "Here a small dashboard with a report of the call rate missingness is shown. The cap on the Y-axis can be selected without re-running the whole pipeline, so it can be selected according to each user need. Moreover, the plots could help to choose the best call rate threshold according to the data."
   ]
  },
  {
   "cell_type": "code",
   "execution_count": null,
   "metadata": {},
   "outputs": [],
   "source": [
    "fail_call_rate = sample.report_call_rate(\n",
    "            directory    =sample.results_dir, \n",
    "            filename     =sample.call_rate_miss, \n",
    "            threshold    =sample_params['mind'],\n",
    "            plots_dir    =sample.plots_dir, \n",
    "            y_axis_cap   =10\n",
    "        )"
   ]
  },
  {
   "cell_type": "markdown",
   "metadata": {},
   "source": [
    "Now, the samples failing sex check are collected and a plot is shown where the user can check the number of problematic samples."
   ]
  },
  {
   "cell_type": "code",
   "execution_count": null,
   "metadata": {},
   "outputs": [],
   "source": [
    "fail_sexcheck = sample.report_sex_check(\n",
    "            directory          =sample.results_dir, \n",
    "            sex_check_filename =sample.sexcheck_miss, \n",
    "            xchr_imiss_filename=sample.xchr_miss,\n",
    "            plots_dir          =sample.plots_dir\n",
    "        )"
   ]
  },
  {
   "cell_type": "markdown",
   "metadata": {},
   "source": [
    "Here a small dashboard with a report of the heterozigosity is shown. The cap on the Y-axis can be selected without re-running the whole pipeline, so it can be selected according to each user need. Moreover, the plots could help to choose a different deviation from the mean of the heterozigosity rate. Notice that the analysis has been divided for SNPs having a MAF of less than 1% and those above that threshold."
   ]
  },
  {
   "cell_type": "code",
   "execution_count": null,
   "metadata": {},
   "outputs": [],
   "source": [
    "fail_het_greater = sample.report_heterozygosity_rate(\n",
    "            directory           = sample.results_dir, \n",
    "            summary_ped_filename= sample.summary_greater, \n",
    "            autosomal_filename  = sample.maf_greater_miss, \n",
    "            std_deviation_het   = sample_params['het_deviation'],\n",
    "            maf                 = sample_params['maf'],\n",
    "            split               = '>',\n",
    "            plots_dir           = sample.plots_dir\n",
    "        )"
   ]
  },
  {
   "cell_type": "code",
   "execution_count": null,
   "metadata": {},
   "outputs": [],
   "source": [
    "fail_het_gless= sample.report_heterozygosity_rate(\n",
    "            directory           = sample.results_dir, \n",
    "            summary_ped_filename= sample.summary_less, \n",
    "            autosomal_filename  = sample.maf_less_miss, \n",
    "            std_deviation_het   = sample_params['het_deviation'],\n",
    "            maf                 = sample_params['maf'],\n",
    "            split               = '<',\n",
    "            plots_dir           = sample.plots_dir\n",
    "        )"
   ]
  },
  {
   "cell_type": "code",
   "execution_count": 12,
   "metadata": {},
   "outputs": [],
   "source": [
    "fail_dup_relatednes = pd.read_csv(\n",
    "            sample.kinship_miss,\n",
    "            sep=r'\\s+',\n",
    "            engine='python'\n",
    "        )\n",
    "\n",
    "# filter samples that failed duplicates and relatedness check\n",
    "fail_dup_relatednes.columns = ['FID', 'IID']\n",
    "fail_dup_relatednes['Failure'] = 'Duplicates and relatedness'"
   ]
  },
  {
   "cell_type": "markdown",
   "metadata": {},
   "source": [
    "All failing samples are collected and concatenated in a single pandas DataFrame and saved. A summary of the amount of samples failing each step is shown. "
   ]
  },
  {
   "cell_type": "code",
   "execution_count": 13,
   "metadata": {},
   "outputs": [],
   "source": [
    "df_fails = pd.concat(\n",
    "    [fail_call_rate, fail_sexcheck, fail_het_greater, fail_het_gless, fail_dup_relatednes],\n",
    "    ignore_index=True\n",
    ")\n",
    "\n",
    "total_fails = df_fails.shape[0]\n",
    "duplicates = df_fails.duplicated(subset=['FID', 'IID']).sum()\n",
    "summary = df_fails['Failure'].value_counts().reset_index()\n",
    "\n",
    "df_fails = df_fails.drop_duplicates(subset=['FID', 'IID'])\n",
    "\n",
    "df_fails.to_csv(\n",
    "    os.path.join(sample.fails_dir, 'fail_samples.txt'), sep='\\t',\n",
    "    index=False\n",
    ")"
   ]
  },
  {
   "cell_type": "code",
   "execution_count": null,
   "metadata": {},
   "outputs": [],
   "source": [
    "summary"
   ]
  },
  {
   "cell_type": "code",
   "execution_count": null,
   "metadata": {},
   "outputs": [],
   "source": [
    "print('Total samples failing QC: ', total_fails)\n",
    "print('Number of duplicated samples: ', duplicates)\n",
    "print('Unique samples failing QC: ', total_fails-duplicates)"
   ]
  },
  {
   "cell_type": "markdown",
   "metadata": {},
   "source": [
    "Finally, the failing samples are dropped and cleaned `PLINK` files are generated."
   ]
  },
  {
   "cell_type": "code",
   "execution_count": null,
   "metadata": {},
   "outputs": [],
   "source": [
    "sample.execute_drop_samples()\n",
    "sample.execute_recover_snp_names(rename=True)"
   ]
  }
 ],
 "metadata": {
  "kernelspec": {
   "display_name": ".venv",
   "language": "python",
   "name": "python3"
  },
  "language_info": {
   "codemirror_mode": {
    "name": "ipython",
    "version": 3
   },
   "file_extension": ".py",
   "mimetype": "text/x-python",
   "name": "python",
   "nbconvert_exporter": "python",
   "pygments_lexer": "ipython3",
   "version": "3.12.7"
  }
 },
 "nbformat": 4,
 "nbformat_minor": 2
}
