{
 "cells": [
  {
   "cell_type": "code",
   "execution_count": 1,
   "metadata": {},
   "outputs": [],
   "source": [
    "import sys\n",
    "import os\n",
    "\n",
    "# add parent directory to path\n",
    "library_path = os.path.abspath('..')\n",
    "if library_path not in sys.path:\n",
    "    sys.path.append(library_path)\n",
    "\n",
    "from cge_comrare_pipeline.UMAPplot import UMAPplot"
   ]
  },
  {
   "cell_type": "code",
   "execution_count": 2,
   "metadata": {},
   "outputs": [
    {
     "data": {
      "application/vnd.jupyter.widget-view+json": {
       "model_id": "61e2de74f0f44236879e50d4d23c7f81",
       "version_major": 2,
       "version_minor": 0
      },
      "text/plain": [
       "Text(value='', description='Path to input plink1.9 files:', style=TextStyle(description_width='initial'))"
      ]
     },
     "metadata": {},
     "output_type": "display_data"
    },
    {
     "data": {
      "application/vnd.jupyter.widget-view+json": {
       "model_id": "a2a941b0a6e94a06bc6309d719b46dbc",
       "version_major": 2,
       "version_minor": 0
      },
      "text/plain": [
       "Text(value='', description='Name of the plink1.9 files:', style=TextStyle(description_width='initial'))"
      ]
     },
     "metadata": {},
     "output_type": "display_data"
    },
    {
     "data": {
      "application/vnd.jupyter.widget-view+json": {
       "model_id": "20aa87e9fee14756b55fba6e45260131",
       "version_major": 2,
       "version_minor": 0
      },
      "text/plain": [
       "Text(value='', description='Path to dependable files:', style=TextStyle(description_width='initial'))"
      ]
     },
     "metadata": {},
     "output_type": "display_data"
    },
    {
     "data": {
      "application/vnd.jupyter.widget-view+json": {
       "model_id": "38d80d41de6540388a7a47bb73262caf",
       "version_major": 2,
       "version_minor": 0
      },
      "text/plain": [
       "Text(value='', description='Path to output files:', style=TextStyle(description_width='initial'))"
      ]
     },
     "metadata": {},
     "output_type": "display_data"
    }
   ],
   "source": [
    "import ipywidgets as widgets\n",
    "from IPython.display import display\n",
    "\n",
    "# Create interactive widgets for input\n",
    "input_path = widgets.Text(\n",
    "    value='',\n",
    "    description='Path to input plink1.9 files:',\n",
    "    style={'description_width': 'initial'}\n",
    ")\n",
    "\n",
    "input_name = widgets.Text(\n",
    "    value='',\n",
    "    description='Name of the plink1.9 files:',\n",
    "    style={'description_width': 'initial'}\n",
    ")\n",
    "\n",
    "dependables_path = widgets.Text(\n",
    "    value='',\n",
    "    description='Path to dependable files:',\n",
    "    style={'description_width': 'initial'}\n",
    ")\n",
    "\n",
    "output_path = widgets.Text(\n",
    "    value='',\n",
    "    description='Path to output files:',\n",
    "    style={'description_width': 'initial'}\n",
    ")\n",
    "# Display the widgets\n",
    "display(input_path, input_name, dependables_path, output_path)\n",
    "\n",
    "# Function to get the text parameter values\n",
    "def get_params():\n",
    "    return input_path.value, input_name.value, dependables_path.value, output_path.value\n",
    "\n"
   ]
  },
  {
   "cell_type": "code",
   "execution_count": 3,
   "metadata": {},
   "outputs": [
    {
     "name": "stdout",
     "output_type": "stream",
     "text": [
      "Parameter 1: /home/luis/data/LuxGiantCleaned/inputData\n",
      "Parameter 2: luxgiant_data_combined_12098-sampleQCed-ancestryChecked-variantQCed\n",
      "Parameter 3: /home/luis/data/LuxGiantCleaned/dependables\n",
      "Parameter 4: /home/luis/data/LuxGiantCleaned/outputData\n"
     ]
    }
   ],
   "source": [
    "# Use the parameter values\n",
    "path_params = get_params()\n",
    "print(f\"Parameter 1: {path_params[0]}\")\n",
    "print(f\"Parameter 2: {path_params[1]}\")\n",
    "print(f\"Parameter 3: {path_params[2]}\")\n",
    "print(f\"Parameter 4: {path_params[3]}\")\n"
   ]
  },
  {
   "cell_type": "code",
   "execution_count": 4,
   "metadata": {},
   "outputs": [
    {
     "data": {
      "application/vnd.jupyter.widget-view+json": {
       "model_id": "1ec7207870af4b7a97abaff202999eab",
       "version_major": 2,
       "version_minor": 0
      },
      "text/plain": [
       "Textarea(value='', description='UMAP n_neighbors (comma-separated):', style=TextStyle(description_width='initi…"
      ]
     },
     "metadata": {},
     "output_type": "display_data"
    },
    {
     "data": {
      "application/vnd.jupyter.widget-view+json": {
       "model_id": "6e552a9cb9134cd28d9d2ecac4236e98",
       "version_major": 2,
       "version_minor": 0
      },
      "text/plain": [
       "Textarea(value='', description='UMAP min_dist (comma-separated):', style=TextStyle(description_width='initial'…"
      ]
     },
     "metadata": {},
     "output_type": "display_data"
    },
    {
     "data": {
      "application/vnd.jupyter.widget-view+json": {
       "model_id": "6ce860415751444aabe3fb752f3b9142",
       "version_major": 2,
       "version_minor": 0
      },
      "text/plain": [
       "Textarea(value='euclidean', description='UMAP metric (comma-separated):', style=TextStyle(description_width='i…"
      ]
     },
     "metadata": {},
     "output_type": "display_data"
    },
    {
     "data": {
      "application/vnd.jupyter.widget-view+json": {
       "model_id": "c5f81daa26a64d29ba9908f37cafcfa1",
       "version_major": 2,
       "version_minor": 0
      },
      "text/plain": [
       "IntText(value=10, description='Number PC for UMAP (integer):', style=DescriptionStyle(description_width='initi…"
      ]
     },
     "metadata": {},
     "output_type": "display_data"
    },
    {
     "data": {
      "application/vnd.jupyter.widget-view+json": {
       "model_id": "46475312e2d64e498b40978e710673a7",
       "version_major": 2,
       "version_minor": 0
      },
      "text/plain": [
       "FloatText(value=0.01, description='MAF (float):', style=DescriptionStyle(description_width='initial'))"
      ]
     },
     "metadata": {},
     "output_type": "display_data"
    },
    {
     "data": {
      "application/vnd.jupyter.widget-view+json": {
       "model_id": "80d38e718e4a4e2a93ca60ca5debe28b",
       "version_major": 2,
       "version_minor": 0
      },
      "text/plain": [
       "FloatText(value=0.2, description='mind (float):', style=DescriptionStyle(description_width='initial'))"
      ]
     },
     "metadata": {},
     "output_type": "display_data"
    },
    {
     "data": {
      "application/vnd.jupyter.widget-view+json": {
       "model_id": "533c470f74d049988fdd5dfa94fae1b5",
       "version_major": 2,
       "version_minor": 0
      },
      "text/plain": [
       "FloatText(value=0.1, description='geno (float):', style=DescriptionStyle(description_width='initial'))"
      ]
     },
     "metadata": {},
     "output_type": "display_data"
    },
    {
     "data": {
      "application/vnd.jupyter.widget-view+json": {
       "model_id": "229b590ae0db4ce89cbd1f515e50c1d2",
       "version_major": 2,
       "version_minor": 0
      },
      "text/plain": [
       "Textarea(value='50, 5, 0.2', description='indep pairwise (comma-separated):', style=TextStyle(description_widt…"
      ]
     },
     "metadata": {},
     "output_type": "display_data"
    },
    {
     "data": {
      "application/vnd.jupyter.widget-view+json": {
       "model_id": "5cc3dade2754469c919c2dd414c452f4",
       "version_major": 2,
       "version_minor": 0
      },
      "text/plain": [
       "FloatText(value=5e-08, description='geno (float):', style=DescriptionStyle(description_width='initial'))"
      ]
     },
     "metadata": {},
     "output_type": "display_data"
    }
   ],
   "source": [
    "# Create interactive widgets for list input\n",
    "umap_n_neighbors = widgets.Textarea(\n",
    "    value='',\n",
    "    description='UMAP n_neighbors (comma-separated):',\n",
    "    style={'description_width': 'initial'}\n",
    ")\n",
    "\n",
    "umap_min_dist = widgets.Textarea(\n",
    "    value='',\n",
    "    description='UMAP min_dist (comma-separated):',\n",
    "    style={'description_width': 'initial'}\n",
    ")\n",
    "\n",
    "umap_metric = widgets.Textarea(\n",
    "    value='euclidean',\n",
    "    description='UMAP metric (comma-separated):',\n",
    "    style={'description_width': 'initial'}\n",
    ")\n",
    "\n",
    "umap_pca = widgets.IntText(\n",
    "    value=10,  # Default value\n",
    "    description='Number PC for UMAP (integer):',\n",
    "    style={'description_width': 'initial'}\n",
    ")\n",
    "\n",
    "umap_maf = widgets.FloatText(\n",
    "    value=0.01,  # Default value\n",
    "    description='MAF (float):',\n",
    "    style={'description_width': 'initial'}\n",
    ")\n",
    "\n",
    "umap_mind = widgets.FloatText(\n",
    "    value=0.2,  # Default value\n",
    "    description='mind (float):',\n",
    "    style={'description_width': 'initial'}\n",
    ")\n",
    "\n",
    "umap_geno = widgets.FloatText(\n",
    "    value=0.1,  # Default value\n",
    "    description='geno (float):',\n",
    "    style={'description_width': 'initial'}\n",
    ")\n",
    "\n",
    "umap_ind_par = widgets.Textarea(\n",
    "    value='50, 5, 0.2',\n",
    "    description='indep pairwise (comma-separated):',\n",
    "    style={'description_width': 'initial'}\n",
    ")\n",
    "\n",
    "umap_hwe = widgets.FloatText(\n",
    "    value=0.00000005,  # Default value\n",
    "    description='geno (float):',\n",
    "    style={'description_width': 'initial'}\n",
    ")\n",
    "\n",
    "# Display the widgets\n",
    "display(umap_n_neighbors, umap_min_dist, umap_metric, umap_pca, umap_maf, umap_mind, umap_geno, umap_ind_par, umap_hwe)\n",
    "\n",
    "# Function to get the list parameter values\n",
    "def get_umap_params()->dict:\n",
    "\n",
    "    umap_params = {}\n",
    "\n",
    "    indep = umap_ind_par.value.split(',')\n",
    "    \n",
    "    umap_params['umap_n_neighbors'] = [int(x.strip()) for x in umap_n_neighbors.value.split(',')]\n",
    "    umap_params['umap_min_dist'] = [float(x.strip()) for x in umap_min_dist.value.split(',')]\n",
    "    umap_params['umap_metric'] = umap_metric.value.split(',')\n",
    "    umap_params['umap_pca'] = umap_pca.value\n",
    "    umap_params['maf'] = umap_maf.value\n",
    "    umap_params['mind'] = umap_mind.value\n",
    "    umap_params['geno'] = umap_geno.value\n",
    "    umap_params['indep-pairwise'] = [int(indep[0]), int(indep[1]), float(indep[2])]\n",
    "    umap_params['hwe'] = umap_hwe.value\n",
    "\n",
    "    return umap_params"
   ]
  },
  {
   "cell_type": "code",
   "execution_count": 5,
   "metadata": {},
   "outputs": [
    {
     "data": {
      "text/plain": [
       "{'umap_n_neighbors': [5, 15, 25, 30],\n",
       " 'umap_min_dist': [0.4, 0.5],\n",
       " 'umap_metric': ['euclidean'],\n",
       " 'umap_pca': 20,\n",
       " 'maf': 0.01,\n",
       " 'mind': 0.2,\n",
       " 'geno': 0.1,\n",
       " 'indep-pairwise': [50, 5, 0.2],\n",
       " 'hwe': 5e-08}"
      ]
     },
     "execution_count": 5,
     "metadata": {},
     "output_type": "execute_result"
    }
   ],
   "source": [
    "umap_params = get_umap_params()\n",
    "umap_params"
   ]
  },
  {
   "cell_type": "code",
   "execution_count": 6,
   "metadata": {},
   "outputs": [
    {
     "name": "stdout",
     "output_type": "stream",
     "text": [
      "draw_plots\n"
     ]
    }
   ],
   "source": [
    "umap_plots = UMAPplot(\n",
    "    input_path      =path_params[0], \n",
    "    input_name      =path_params[1], \n",
    "    dependables_path=path_params[2],\n",
    "    config_dict     =umap_params,\n",
    "    output_path     =path_params[3]\n",
    ")\n",
    "\n",
    "umap_steps = {\n",
    "    #'ld_pruning': umap_plots.ld_pruning,\n",
    "    #'comp_pca'  : umap_plots.compute_pcas,\n",
    "    'draw_plots': umap_plots.generate_plots\n",
    "}\n",
    "\n",
    "for step in umap_steps.keys():\n",
    "    print(step)\n",
    "    umap_steps[step]()"
   ]
  }
 ],
 "metadata": {
  "kernelspec": {
   "display_name": "cge-comrare-pipeline-AOnVxG3n-py3.12",
   "language": "python",
   "name": "python3"
  },
  "language_info": {
   "codemirror_mode": {
    "name": "ipython",
    "version": 3
   },
   "file_extension": ".py",
   "mimetype": "text/x-python",
   "name": "python",
   "nbconvert_exporter": "python",
   "pygments_lexer": "ipython3",
   "version": "3.12.3"
  }
 },
 "nbformat": 4,
 "nbformat_minor": 2
}
