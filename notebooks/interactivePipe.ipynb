{
 "cells": [
  {
   "cell_type": "code",
   "execution_count": 1,
   "metadata": {},
   "outputs": [],
   "source": [
    "import sys\n",
    "import os\n",
    "\n",
    "# add parent directory to path\n",
    "library_path = os.path.abspath('..')\n",
    "if library_path not in sys.path:\n",
    "    sys.path.append(library_path)\n",
    "\n",
    "from cge_comrare_pipeline.UMAPplot import UMAPplot"
   ]
  },
  {
   "cell_type": "code",
   "execution_count": null,
   "metadata": {},
   "outputs": [
    {
     "data": {
      "application/vnd.jupyter.widget-view+json": {
       "model_id": "3e472b2072fd44478ba5748beed36db3",
       "version_major": 2,
       "version_minor": 0
      },
      "text/plain": [
       "Text(value='/mnt/0A2AAC152AABFBB7/data/LuxGiantCleaned/inputData', description='Path to input plink1.9 files:'…"
      ]
     },
     "metadata": {},
     "output_type": "display_data"
    },
    {
     "data": {
      "application/vnd.jupyter.widget-view+json": {
       "model_id": "dde148753a6848aca54628847adf4579",
       "version_major": 2,
       "version_minor": 0
      },
      "text/plain": [
       "Text(value='luxgiant_data_combined_12098-sampleQCed-ancestryChecked-variantQCed', description='Name of the pli…"
      ]
     },
     "metadata": {},
     "output_type": "display_data"
    },
    {
     "data": {
      "application/vnd.jupyter.widget-view+json": {
       "model_id": "59ded9c937ca44ca9e66808636c24e0f",
       "version_major": 2,
       "version_minor": 0
      },
      "text/plain": [
       "Text(value='/mnt/0A2AAC152AABFBB7/data/LuxGiantCleaned/dependables', description='Path to dependable files:', …"
      ]
     },
     "metadata": {},
     "output_type": "display_data"
    },
    {
     "data": {
      "application/vnd.jupyter.widget-view+json": {
       "model_id": "5afd48d48e304dceb28d41e576089efe",
       "version_major": 2,
       "version_minor": 0
      },
      "text/plain": [
       "Text(value='/mnt/0A2AAC152AABFBB7/data/LuxGiantCleaned/outputData', description='Path to output files:', style…"
      ]
     },
     "metadata": {},
     "output_type": "display_data"
    }
   ],
   "source": [
    "import ipywidgets as widgets\n",
    "from IPython.display import display\n",
    "\n",
    "# Create interactive widgets for input\n",
    "input_path = widgets.Text(\n",
    "    value='',\n",
    "    description='Path to input plink1.9 files:',\n",
    "    style={'description_width': 'initial'}\n",
    ")\n",
    "\n",
    "input_name = widgets.Text(\n",
    "    value='',\n",
    "    description='Name of the plink1.9 files:',\n",
    "    style={'description_width': 'initial'}\n",
    ")\n",
    "\n",
    "dependables_path = widgets.Text(\n",
    "    value='',\n",
    "    description='Path to dependable files:',\n",
    "    style={'description_width': 'initial'}\n",
    ")\n",
    "\n",
    "output_path = widgets.Text(\n",
    "    value='',\n",
    "    description='Path to output files:',\n",
    "    style={'description_width': 'initial'}\n",
    ")\n",
    "# Display the widgets\n",
    "display(input_path, input_name, dependables_path, output_path)\n",
    "\n",
    "# Function to get the text parameter values\n",
    "def get_params():\n",
    "    return input_path.value, input_name.value, dependables_path.value, output_path.value\n",
    "\n"
   ]
  },
  {
   "cell_type": "code",
   "execution_count": 3,
   "metadata": {},
   "outputs": [
    {
     "name": "stdout",
     "output_type": "stream",
     "text": [
      "Input Path: /mnt/0A2AAC152AABFBB7/data/LuxGiantCleaned/inputData\n",
      "Input Name: luxgiant_data_combined_12098-sampleQCed-ancestryChecked-variantQCed\n",
      "Dependables: /mnt/0A2AAC152AABFBB7/data/LuxGiantCleaned/dependables\n",
      "Output Path: /mnt/0A2AAC152AABFBB7/data/LuxGiantCleaned/outputData\n"
     ]
    }
   ],
   "source": [
    "# Use the parameter values\n",
    "path_params = get_params()\n",
    "print(f\"Input Path: {path_params[0]}\")\n",
    "print(f\"Input Name: {path_params[1]}\")\n",
    "print(f\"Dependables: {path_params[2]}\")\n",
    "print(f\"Output Path: {path_params[3]}\")\n"
   ]
  },
  {
   "cell_type": "code",
   "execution_count": 4,
   "metadata": {},
   "outputs": [
    {
     "data": {
      "application/vnd.jupyter.widget-view+json": {
       "model_id": "0b65573cf1424ca399c15a7010313994",
       "version_major": 2,
       "version_minor": 0
      },
      "text/plain": [
       "Textarea(value='5', description='UMAP n_neighbors (comma-separated):', style=TextStyle(description_width='auto…"
      ]
     },
     "metadata": {},
     "output_type": "display_data"
    },
    {
     "data": {
      "application/vnd.jupyter.widget-view+json": {
       "model_id": "f26b66babcb043df9dc07f0437f01adf",
       "version_major": 2,
       "version_minor": 0
      },
      "text/plain": [
       "Textarea(value='0.5', description='UMAP min_dist (comma-separated):', style=TextStyle(description_width='auto'…"
      ]
     },
     "metadata": {},
     "output_type": "display_data"
    },
    {
     "data": {
      "application/vnd.jupyter.widget-view+json": {
       "model_id": "27422d99b40844d98c04811787d72b3e",
       "version_major": 2,
       "version_minor": 0
      },
      "text/plain": [
       "Textarea(value='euclidean', description='UMAP metric (comma-separated):', style=TextStyle(description_width='a…"
      ]
     },
     "metadata": {},
     "output_type": "display_data"
    },
    {
     "data": {
      "application/vnd.jupyter.widget-view+json": {
       "model_id": "a530dc91d04c4bd6a557c76b4e6ff3fe",
       "version_major": 2,
       "version_minor": 0
      },
      "text/plain": [
       "IntText(value=10, description='Number PC for UMAP (integer):', style=DescriptionStyle(description_width='initi…"
      ]
     },
     "metadata": {},
     "output_type": "display_data"
    },
    {
     "data": {
      "application/vnd.jupyter.widget-view+json": {
       "model_id": "ac3fc120c6de489d8c17bc0c36403f6e",
       "version_major": 2,
       "version_minor": 0
      },
      "text/plain": [
       "FloatText(value=0.01, description='MAF (float):', style=DescriptionStyle(description_width='initial'))"
      ]
     },
     "metadata": {},
     "output_type": "display_data"
    },
    {
     "data": {
      "application/vnd.jupyter.widget-view+json": {
       "model_id": "05a808c005384b6cbf3cde0be31608b9",
       "version_major": 2,
       "version_minor": 0
      },
      "text/plain": [
       "FloatText(value=0.2, description='mind (float):', style=DescriptionStyle(description_width='initial'))"
      ]
     },
     "metadata": {},
     "output_type": "display_data"
    },
    {
     "data": {
      "application/vnd.jupyter.widget-view+json": {
       "model_id": "9928b224a6c74ac5b6d146ab596920b5",
       "version_major": 2,
       "version_minor": 0
      },
      "text/plain": [
       "FloatText(value=0.1, description='geno (float):', style=DescriptionStyle(description_width='initial'))"
      ]
     },
     "metadata": {},
     "output_type": "display_data"
    },
    {
     "data": {
      "application/vnd.jupyter.widget-view+json": {
       "model_id": "18ca095433c244fb937d6d352fe2e0cc",
       "version_major": 2,
       "version_minor": 0
      },
      "text/plain": [
       "Textarea(value='50, 5, 0.2', description='indep pairwise (comma-separated):', style=TextStyle(description_widt…"
      ]
     },
     "metadata": {},
     "output_type": "display_data"
    },
    {
     "data": {
      "application/vnd.jupyter.widget-view+json": {
       "model_id": "b2e135a23fe14d90942f3d9d8ffa6be1",
       "version_major": 2,
       "version_minor": 0
      },
      "text/plain": [
       "FloatText(value=5e-08, description='geno (float):', style=DescriptionStyle(description_width='initial'))"
      ]
     },
     "metadata": {},
     "output_type": "display_data"
    }
   ],
   "source": [
    "# Create interactive widgets for list input\n",
    "umap_n_neighbors = widgets.Textarea(\n",
    "    value='5',\n",
    "    description='UMAP n_neighbors (comma-separated):',\n",
    "    style={'description_width': 'auto'}\n",
    ")\n",
    "\n",
    "umap_min_dist = widgets.Textarea(\n",
    "    value='0.5',\n",
    "    description='UMAP min_dist (comma-separated):',\n",
    "    style={'description_width': 'auto'}\n",
    ")\n",
    "\n",
    "umap_metric = widgets.Textarea(\n",
    "    value='euclidean',\n",
    "    description='UMAP metric (comma-separated):',\n",
    "    style={'description_width': 'auto'}\n",
    ")\n",
    "\n",
    "umap_pca = widgets.IntText(\n",
    "    value=10,  # Default value\n",
    "    description='Number PC for UMAP (integer):',\n",
    "    style={'description_width': 'initial'}\n",
    ")\n",
    "\n",
    "umap_maf = widgets.FloatText(\n",
    "    value=0.01,  # Default value\n",
    "    description='MAF (float):',\n",
    "    style={'description_width': 'initial'}\n",
    ")\n",
    "\n",
    "umap_mind = widgets.FloatText(\n",
    "    value=0.2,  # Default value\n",
    "    description='mind (float):',\n",
    "    style={'description_width': 'initial'}\n",
    ")\n",
    "\n",
    "umap_geno = widgets.FloatText(\n",
    "    value=0.1,  # Default value\n",
    "    description='geno (float):',\n",
    "    style={'description_width': 'initial'}\n",
    ")\n",
    "\n",
    "umap_ind_par = widgets.Textarea(\n",
    "    value='50, 5, 0.2',\n",
    "    description='indep pairwise (comma-separated):',\n",
    "    style={'description_width': 'initial'}\n",
    ")\n",
    "\n",
    "umap_hwe = widgets.FloatText(\n",
    "    value=0.00000005,  # Default value\n",
    "    description='geno (float):',\n",
    "    style={'description_width': 'initial'}\n",
    ")\n",
    "\n",
    "# Display the widgets\n",
    "display(umap_n_neighbors, umap_min_dist, umap_metric, umap_pca, umap_maf, umap_mind, umap_geno, umap_ind_par, umap_hwe)\n",
    "\n",
    "# Function to get the list parameter values\n",
    "def get_umap_params()->dict:\n",
    "\n",
    "    umap_params = {}\n",
    "\n",
    "    indep = umap_ind_par.value.split(',')\n",
    "    \n",
    "    umap_params['umap_n_neighbors'] = [int(x.strip()) for x in umap_n_neighbors.value.split(',')]\n",
    "    umap_params['umap_min_dist'] = [float(x.strip()) for x in umap_min_dist.value.split(',')]\n",
    "    umap_params['umap_metric'] = umap_metric.value.split(',')\n",
    "    umap_params['umap_pca'] = umap_pca.value\n",
    "    umap_params['maf'] = umap_maf.value\n",
    "    umap_params['mind'] = umap_mind.value\n",
    "    umap_params['geno'] = umap_geno.value\n",
    "    umap_params['indep-pairwise'] = [int(indep[0]), int(indep[1]), float(indep[2])]\n",
    "    umap_params['hwe'] = umap_hwe.value\n",
    "\n",
    "    return umap_params"
   ]
  },
  {
   "cell_type": "code",
   "execution_count": 5,
   "metadata": {},
   "outputs": [
    {
     "data": {
      "text/plain": [
       "{'umap_n_neighbors': [5],\n",
       " 'umap_min_dist': [0.5],\n",
       " 'umap_metric': ['euclidean'],\n",
       " 'umap_pca': 10,\n",
       " 'maf': 0.01,\n",
       " 'mind': 0.2,\n",
       " 'geno': 0.1,\n",
       " 'indep-pairwise': [50, 5, 0.2],\n",
       " 'hwe': 5e-08}"
      ]
     },
     "execution_count": 5,
     "metadata": {},
     "output_type": "execute_result"
    }
   ],
   "source": [
    "umap_params = get_umap_params()\n",
    "umap_params"
   ]
  },
  {
   "cell_type": "code",
   "execution_count": 6,
   "metadata": {},
   "outputs": [
    {
     "name": "stdout",
     "output_type": "stream",
     "text": [
      "\u001b[1mPerform LD pruning.\u001b[0m\n",
      "\u001b[1m LD prunning already performed.\u001b[0m\n",
      "\u001b[1mCompute PCAs.\u001b[0m\n",
      "\u001b[1m Principal components already computed.\u001b[0m\n",
      "\u001b[1mDraw UMAP plots.\u001b[0m\n"
     ]
    }
   ],
   "source": [
    "umap_plots = UMAPplot(\n",
    "    input_path      =path_params[0], \n",
    "    input_name      =path_params[1], \n",
    "    dependables_path=path_params[2],\n",
    "    config_dict     =umap_params,\n",
    "    output_path     =path_params[3],\n",
    "    compute_all     =False\n",
    ")\n",
    "\n",
    "umap_steps = {\n",
    "    'ld_pruning': umap_plots.ld_pruning,\n",
    "    'comp_pca'  : umap_plots.compute_pcas,\n",
    "    'draw_plots': umap_plots.generate_plots\n",
    "}\n",
    "\n",
    "step_description = {\n",
    "    'ld_pruning': 'Perform LD pruning',\n",
    "    'comp_pca'  : 'Compute PCAs',\n",
    "    'draw_plots': 'Draw UMAP plots'\n",
    "}\n",
    "\n",
    "for step in umap_steps.keys():\n",
    "    print(f\"\\033[1m{step_description[step]}.\\033[0m\")\n",
    "    umap_steps[step]()"
   ]
  }
 ],
 "metadata": {
  "kernelspec": {
   "display_name": ".venv",
   "language": "python",
   "name": "python3"
  },
  "language_info": {
   "codemirror_mode": {
    "name": "ipython",
    "version": 3
   },
   "file_extension": ".py",
   "mimetype": "text/x-python",
   "name": "python",
   "nbconvert_exporter": "python",
   "pygments_lexer": "ipython3",
   "version": "3.12.2"
  }
 },
 "nbformat": 4,
 "nbformat_minor": 2
}
