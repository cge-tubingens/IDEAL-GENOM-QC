{
 "cells": [
  {
   "cell_type": "code",
   "execution_count": 7,
   "metadata": {},
   "outputs": [],
   "source": [
    "import sys\n",
    "import os\n",
    "\n",
    "# add parent directory to path\n",
    "library_path = os.path.abspath('..')\n",
    "if library_path not in sys.path:\n",
    "    sys.path.append(library_path)\n",
    "\n",
    "from cge_comrare_pipeline.UMAPplot import UMAPplot"
   ]
  },
  {
   "cell_type": "code",
   "execution_count": 13,
   "metadata": {},
   "outputs": [
    {
     "data": {
      "application/vnd.jupyter.widget-view+json": {
       "model_id": "3ad8404838cf44a9bb92669b9bb0d976",
       "version_major": 2,
       "version_minor": 0
      },
      "text/plain": [
       "Text(value='', description='Path to input plink1.9 files:', style=TextStyle(description_width='initial'))"
      ]
     },
     "metadata": {},
     "output_type": "display_data"
    },
    {
     "data": {
      "application/vnd.jupyter.widget-view+json": {
       "model_id": "d9f3452deac14ad9816691928e270b31",
       "version_major": 2,
       "version_minor": 0
      },
      "text/plain": [
       "Text(value='', description='Name of the plink1.9 files:', style=TextStyle(description_width='initial'))"
      ]
     },
     "metadata": {},
     "output_type": "display_data"
    },
    {
     "data": {
      "application/vnd.jupyter.widget-view+json": {
       "model_id": "695d161b30c24d4d8775be36d2d9044d",
       "version_major": 2,
       "version_minor": 0
      },
      "text/plain": [
       "Text(value='', description='Path to dependable files:', style=TextStyle(description_width='initial'))"
      ]
     },
     "metadata": {},
     "output_type": "display_data"
    },
    {
     "data": {
      "application/vnd.jupyter.widget-view+json": {
       "model_id": "05e3edaad88e439494cdc84eb4d52541",
       "version_major": 2,
       "version_minor": 0
      },
      "text/plain": [
       "Text(value='', description='Path to output files:', style=TextStyle(description_width='initial'))"
      ]
     },
     "metadata": {},
     "output_type": "display_data"
    }
   ],
   "source": [
    "import ipywidgets as widgets\n",
    "from IPython.display import display\n",
    "\n",
    "# Create interactive widgets for input\n",
    "input_path = widgets.Text(\n",
    "    value='',\n",
    "    description='Path to input plink1.9 files:',\n",
    "    style={'description_width': 'initial'}\n",
    ")\n",
    "\n",
    "input_name = widgets.Text(\n",
    "    value='',\n",
    "    description='Name of the plink1.9 files:',\n",
    "    style={'description_width': 'initial'}\n",
    ")\n",
    "\n",
    "dependables_path = widgets.Text(\n",
    "    value='',\n",
    "    description='Path to dependable files:',\n",
    "    style={'description_width': 'initial'}\n",
    ")\n",
    "\n",
    "output_path = widgets.Text(\n",
    "    value='',\n",
    "    description='Path to output files:',\n",
    "    style={'description_width': 'initial'}\n",
    ")\n",
    "# Display the widgets\n",
    "display(input_path, input_name, dependables_path, output_path)\n",
    "\n",
    "# Function to get the text parameter values\n",
    "def get_params():\n",
    "    return input_path.value, input_name.value, dependables_path.value, output_path.value\n",
    "\n"
   ]
  },
  {
   "cell_type": "code",
   "execution_count": 14,
   "metadata": {},
   "outputs": [
    {
     "name": "stdout",
     "output_type": "stream",
     "text": [
      "Input Path: \n",
      "Input Name: \n",
      "Dependables: \n",
      "Output Path: \n"
     ]
    }
   ],
   "source": [
    "# Use the parameter values\n",
    "path_params = get_params()\n",
    "print(f\"Input Path: {path_params[0]}\")\n",
    "print(f\"Input Name: {path_params[1]}\")\n",
    "print(f\"Dependables: {path_params[2]}\")\n",
    "print(f\"Output Path: {path_params[3]}\")\n"
   ]
  },
  {
   "cell_type": "code",
   "execution_count": 10,
   "metadata": {},
   "outputs": [
    {
     "data": {
      "application/vnd.jupyter.widget-view+json": {
       "model_id": "9d5990ac91b14d2e8be5b5ff3a045ce9",
       "version_major": 2,
       "version_minor": 0
      },
      "text/plain": [
       "Textarea(value='15', description='UMAP n_neighbors (comma-separated):', style=TextStyle(description_width='aut…"
      ]
     },
     "metadata": {},
     "output_type": "display_data"
    },
    {
     "data": {
      "application/vnd.jupyter.widget-view+json": {
       "model_id": "cf151a5424fc4c91b5c638513ffb0985",
       "version_major": 2,
       "version_minor": 0
      },
      "text/plain": [
       "Textarea(value='0.5', description='UMAP min_dist (comma-separated):', style=TextStyle(description_width='auto'…"
      ]
     },
     "metadata": {},
     "output_type": "display_data"
    },
    {
     "data": {
      "application/vnd.jupyter.widget-view+json": {
       "model_id": "8c5782dfa6e14e7ca699fb69aa78c331",
       "version_major": 2,
       "version_minor": 0
      },
      "text/plain": [
       "Textarea(value='euclidean', description='UMAP metric (comma-separated):', style=TextStyle(description_width='a…"
      ]
     },
     "metadata": {},
     "output_type": "display_data"
    },
    {
     "data": {
      "application/vnd.jupyter.widget-view+json": {
       "model_id": "1f05d73f9d984240a5fffde4c0bd4806",
       "version_major": 2,
       "version_minor": 0
      },
      "text/plain": [
       "IntText(value=10, description='Number PC for UMAP (integer):', style=DescriptionStyle(description_width='initi…"
      ]
     },
     "metadata": {},
     "output_type": "display_data"
    },
    {
     "data": {
      "application/vnd.jupyter.widget-view+json": {
       "model_id": "4e555aa4f1c4408c8e11da32dc4957e0",
       "version_major": 2,
       "version_minor": 0
      },
      "text/plain": [
       "FloatText(value=0.01, description='MAF (float):', style=DescriptionStyle(description_width='initial'))"
      ]
     },
     "metadata": {},
     "output_type": "display_data"
    },
    {
     "data": {
      "application/vnd.jupyter.widget-view+json": {
       "model_id": "e1d31bff4a6c45ee9bbdc885e151d2cd",
       "version_major": 2,
       "version_minor": 0
      },
      "text/plain": [
       "FloatText(value=0.2, description='mind (float):', style=DescriptionStyle(description_width='initial'))"
      ]
     },
     "metadata": {},
     "output_type": "display_data"
    },
    {
     "data": {
      "application/vnd.jupyter.widget-view+json": {
       "model_id": "8fd53aadb6314ade99cc9e7b21c4244e",
       "version_major": 2,
       "version_minor": 0
      },
      "text/plain": [
       "FloatText(value=0.1, description='geno (float):', style=DescriptionStyle(description_width='initial'))"
      ]
     },
     "metadata": {},
     "output_type": "display_data"
    },
    {
     "data": {
      "application/vnd.jupyter.widget-view+json": {
       "model_id": "d69a789f17c04d7da5e935ce3ff7b416",
       "version_major": 2,
       "version_minor": 0
      },
      "text/plain": [
       "Textarea(value='50, 5, 0.2', description='indep pairwise (comma-separated):', style=TextStyle(description_widt…"
      ]
     },
     "metadata": {},
     "output_type": "display_data"
    },
    {
     "data": {
      "application/vnd.jupyter.widget-view+json": {
       "model_id": "786a10a8daaf41f4aa979c7b367f5301",
       "version_major": 2,
       "version_minor": 0
      },
      "text/plain": [
       "FloatText(value=5e-08, description='geno (float):', style=DescriptionStyle(description_width='initial'))"
      ]
     },
     "metadata": {},
     "output_type": "display_data"
    }
   ],
   "source": [
    "# Create interactive widgets for list input\n",
    "umap_n_neighbors = widgets.Textarea(\n",
    "    value='15',\n",
    "    description='UMAP n_neighbors (comma-separated):',\n",
    "    style={'description_width': 'auto'}\n",
    ")\n",
    "\n",
    "umap_min_dist = widgets.Textarea(\n",
    "    value='0.5',\n",
    "    description='UMAP min_dist (comma-separated):',\n",
    "    style={'description_width': 'auto'}\n",
    ")\n",
    "\n",
    "umap_metric = widgets.Textarea(\n",
    "    value='euclidean',\n",
    "    description='UMAP metric (comma-separated):',\n",
    "    style={'description_width': 'auto'}\n",
    ")\n",
    "\n",
    "umap_pca = widgets.IntText(\n",
    "    value=10,  # Default value\n",
    "    description='Number PC for UMAP (integer):',\n",
    "    style={'description_width': 'initial'}\n",
    ")\n",
    "\n",
    "umap_maf = widgets.FloatText(\n",
    "    value=0.01,  # Default value\n",
    "    description='MAF (float):',\n",
    "    style={'description_width': 'initial'}\n",
    ")\n",
    "\n",
    "umap_mind = widgets.FloatText(\n",
    "    value=0.2,  # Default value\n",
    "    description='mind (float):',\n",
    "    style={'description_width': 'initial'}\n",
    ")\n",
    "\n",
    "umap_geno = widgets.FloatText(\n",
    "    value=0.1,  # Default value\n",
    "    description='geno (float):',\n",
    "    style={'description_width': 'initial'}\n",
    ")\n",
    "\n",
    "umap_ind_par = widgets.Textarea(\n",
    "    value='50, 5, 0.2',\n",
    "    description='indep pairwise (comma-separated):',\n",
    "    style={'description_width': 'initial'}\n",
    ")\n",
    "\n",
    "umap_hwe = widgets.FloatText(\n",
    "    value=0.00000005,  # Default value\n",
    "    description='geno (float):',\n",
    "    style={'description_width': 'initial'}\n",
    ")\n",
    "\n",
    "# Display the widgets\n",
    "display(umap_n_neighbors, umap_min_dist, umap_metric, umap_pca, umap_maf, umap_mind, umap_geno, umap_ind_par, umap_hwe)\n",
    "\n",
    "# Function to get the list parameter values\n",
    "def get_umap_params()->dict:\n",
    "\n",
    "    umap_params = {}\n",
    "\n",
    "    indep = umap_ind_par.value.split(',')\n",
    "    \n",
    "    umap_params['umap_n_neighbors'] = [int(x.strip()) for x in umap_n_neighbors.value.split(',')]\n",
    "    umap_params['umap_min_dist'] = [float(x.strip()) for x in umap_min_dist.value.split(',')]\n",
    "    umap_params['umap_metric'] = umap_metric.value.split(',')\n",
    "    umap_params['umap_pca'] = umap_pca.value\n",
    "    umap_params['maf'] = umap_maf.value\n",
    "    umap_params['mind'] = umap_mind.value\n",
    "    umap_params['geno'] = umap_geno.value\n",
    "    umap_params['indep-pairwise'] = [int(indep[0]), int(indep[1]), float(indep[2])]\n",
    "    umap_params['hwe'] = umap_hwe.value\n",
    "\n",
    "    return umap_params"
   ]
  },
  {
   "cell_type": "code",
   "execution_count": 11,
   "metadata": {},
   "outputs": [
    {
     "data": {
      "text/plain": [
       "{'umap_n_neighbors': [5, 15, 25, 30],\n",
       " 'umap_min_dist': [0.4, 0.5],\n",
       " 'umap_metric': ['euclidean'],\n",
       " 'umap_pca': 10,\n",
       " 'maf': 0.01,\n",
       " 'mind': 0.2,\n",
       " 'geno': 0.1,\n",
       " 'indep-pairwise': [50, 5, 0.2],\n",
       " 'hwe': 5e-08}"
      ]
     },
     "execution_count": 11,
     "metadata": {},
     "output_type": "execute_result"
    }
   ],
   "source": [
    "umap_params = get_umap_params()\n",
    "umap_params"
   ]
  },
  {
   "cell_type": "code",
   "execution_count": 12,
   "metadata": {},
   "outputs": [
    {
     "name": "stdout",
     "output_type": "stream",
     "text": [
      "\u001b[1mPerform LD pruning.\u001b[0m\n",
      "\u001b[1m LD prunning already performed.\u001b[0m\n",
      "\u001b[1mCompute PCAs.\u001b[0m\n",
      "\u001b[1m Principal components already computed.\u001b[0m\n",
      "\u001b[1mDraw UMAP plots.\u001b[0m\n"
     ]
    }
   ],
   "source": [
    "umap_plots = UMAPplot(\n",
    "    input_path      =path_params[0], \n",
    "    input_name      =path_params[1], \n",
    "    dependables_path=path_params[2],\n",
    "    config_dict     =umap_params,\n",
    "    output_path     =path_params[3],\n",
    "    compute_all=False\n",
    ")\n",
    "\n",
    "umap_steps = {\n",
    "    'ld_pruning': umap_plots.ld_pruning,\n",
    "    'comp_pca'  : umap_plots.compute_pcas,\n",
    "    'draw_plots': umap_plots.generate_plots\n",
    "}\n",
    "\n",
    "step_description = {\n",
    "    'ld_pruning': 'Perform LD pruning',\n",
    "    'comp_pca'  : 'Compute PCAs',\n",
    "    'draw_plots': 'Draw UMAP plots'\n",
    "}\n",
    "\n",
    "for step in umap_steps.keys():\n",
    "    print(f\"\\033[1m{step_description[step]}.\\033[0m\")\n",
    "    umap_steps[step]()"
   ]
  }
 ],
 "metadata": {
  "kernelspec": {
   "display_name": ".venv",
   "language": "python",
   "name": "python3"
  },
  "language_info": {
   "codemirror_mode": {
    "name": "ipython",
    "version": 3
   },
   "file_extension": ".py",
   "mimetype": "text/x-python",
   "name": "python",
   "nbconvert_exporter": "python",
   "pygments_lexer": "ipython3",
   "version": "3.12.7"
  }
 },
 "nbformat": 4,
 "nbformat_minor": 2
}
