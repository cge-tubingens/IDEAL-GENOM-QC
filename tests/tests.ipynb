{
 "cells": [
  {
   "cell_type": "code",
   "execution_count": 1,
   "metadata": {},
   "outputs": [],
   "source": [
    "import sys\n",
    "sys.path.append('/home/luis/CGE/cge-comrare-pipeline/cge_comrare_pipeline')\n",
    "\n",
    "import umap\n",
    "import warnings\n",
    "import pandas as pd\n"
   ]
  },
  {
   "cell_type": "code",
   "execution_count": 2,
   "metadata": {},
   "outputs": [],
   "source": [
    "# load .eigenvec file\n",
    "df_eigenvec = pd.read_csv(\n",
    "            '/home/luis/data/LuxGiantUpdated/outputData/umap_plots/.sampleQC.pca.eigenvec',\n",
    "            header=None,\n",
    "            sep=' '\n",
    "        )\n",
    "# rename columns\n",
    "num_pc = df_eigenvec.shape[1]-2\n",
    "new_cols = [f\"pca_{k}\" for k in range(1,num_pc+1)]\n",
    "df_eigenvec.columns = ['ID1', 'ID2'] + new_cols\n",
    "\n",
    "df_vals= df_eigenvec[new_cols].to_numpy()\n",
    "df_ids = df_eigenvec[['ID1', 'ID2']].copy()"
   ]
  },
  {
   "cell_type": "code",
   "execution_count": 3,
   "metadata": {},
   "outputs": [],
   "source": [
    "D2_redux = umap.UMAP(\n",
    "            n_components=2,\n",
    "            n_neighbors =2,\n",
    "            min_dist    =0.1,\n",
    "            metric      ='euclidean'\n",
    "        )\n"
   ]
  },
  {
   "cell_type": "code",
   "execution_count": 4,
   "metadata": {},
   "outputs": [],
   "source": [
    "with warnings.catch_warnings(record=True) as w:\n",
    "    warnings.simplefilter(\"always\")\n",
    "            \n",
    "    # generates umap projection\n",
    "    umap_2D_proj = D2_redux.fit_transform(df_vals)\n",
    "\n",
    "    w"
   ]
  },
  {
   "cell_type": "code",
   "execution_count": 15,
   "metadata": {},
   "outputs": [
    {
     "data": {
      "text/plain": [
       "tuple"
      ]
     },
     "execution_count": 15,
     "metadata": {},
     "output_type": "execute_result"
    }
   ],
   "source": [
    "type(w[0].message.args)"
   ]
  },
  {
   "cell_type": "code",
   "execution_count": 17,
   "metadata": {},
   "outputs": [
    {
     "data": {
      "text/plain": [
       "'Spectral initialisation failed! The eigenvector solver\\nfailed. This is likely due to too small an eigengap. Consider\\nadding some noise or jitter to your data.\\n\\nFalling back to random initialisation!'"
      ]
     },
     "execution_count": 17,
     "metadata": {},
     "output_type": "execute_result"
    }
   ],
   "source": [
    "w[0].message.args[0]"
   ]
  },
  {
   "cell_type": "code",
   "execution_count": 18,
   "metadata": {},
   "outputs": [
    {
     "data": {
      "text/plain": [
       "list"
      ]
     },
     "execution_count": 18,
     "metadata": {},
     "output_type": "execute_result"
    }
   ],
   "source": [
    "type(w)"
   ]
  },
  {
   "cell_type": "code",
   "execution_count": 19,
   "metadata": {},
   "outputs": [
    {
     "data": {
      "text/plain": [
       "'spectral'"
      ]
     },
     "execution_count": 19,
     "metadata": {},
     "output_type": "execute_result"
    }
   ],
   "source": [
    "D2_redux.init"
   ]
  },
  {
   "cell_type": "code",
   "execution_count": null,
   "metadata": {},
   "outputs": [],
   "source": []
  }
 ],
 "metadata": {
  "kernelspec": {
   "display_name": "cge-comrare-pipeline-AOnVxG3n-py3.12",
   "language": "python",
   "name": "python3"
  },
  "language_info": {
   "codemirror_mode": {
    "name": "ipython",
    "version": 3
   },
   "file_extension": ".py",
   "mimetype": "text/x-python",
   "name": "python",
   "nbconvert_exporter": "python",
   "pygments_lexer": "ipython3",
   "version": "3.12.3"
  }
 },
 "nbformat": 4,
 "nbformat_minor": 2
}
