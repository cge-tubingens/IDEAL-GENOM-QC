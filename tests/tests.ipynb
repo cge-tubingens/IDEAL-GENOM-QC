{
 "cells": [
  {
   "cell_type": "code",
   "execution_count": 2,
   "metadata": {},
   "outputs": [],
   "source": [
    "import os\n",
    "import sys\n",
    "\n",
    "# add parent directory to path\n",
    "library_path = os.path.abspath('..')\n",
    "if library_path not in sys.path:\n",
    "    sys.path.append(library_path)\n",
    "\n",
    "from cge_comrare_pipeline.SampleQC import SampleQC"
   ]
  },
  {
   "cell_type": "code",
   "execution_count": 3,
   "metadata": {},
   "outputs": [],
   "source": [
    "input_dir = '/home/luis/data/rawdata-sexupdated/inputData'\n",
    "input_name = 'luxgiant_data_combined_12098-updated-sex'\n",
    "output_dir = '/home/luis/data/rawdata-sexupdated/outputData'\n",
    "output_name = 'luxgiant_res'\n",
    "dependables = '/home/luis/data/rawdata-sexupdated/dependables'"
   ]
  },
  {
   "cell_type": "code",
   "execution_count": 18,
   "metadata": {},
   "outputs": [
    {
     "data": {
      "text/html": [
       "<div>\n",
       "<style scoped>\n",
       "    .dataframe tbody tr th:only-of-type {\n",
       "        vertical-align: middle;\n",
       "    }\n",
       "\n",
       "    .dataframe tbody tr th {\n",
       "        vertical-align: top;\n",
       "    }\n",
       "\n",
       "    .dataframe thead th {\n",
       "        text-align: right;\n",
       "    }\n",
       "</style>\n",
       "<table border=\"1\" class=\"dataframe\">\n",
       "  <thead>\n",
       "    <tr style=\"text-align: right;\">\n",
       "      <th></th>\n",
       "      <th>1</th>\n",
       "      <th>0</th>\n",
       "    </tr>\n",
       "  </thead>\n",
       "  <tbody>\n",
       "    <tr>\n",
       "      <th>0</th>\n",
       "      <td>1:49554-G-A</td>\n",
       "      <td>1:49554:G:A</td>\n",
       "    </tr>\n",
       "    <tr>\n",
       "      <th>1</th>\n",
       "      <td>JHU_1.115745</td>\n",
       "      <td>1:115746:T:C</td>\n",
       "    </tr>\n",
       "    <tr>\n",
       "      <th>2</th>\n",
       "      <td>JHU_1.534237</td>\n",
       "      <td>1:598858:C:A</td>\n",
       "    </tr>\n",
       "    <tr>\n",
       "      <th>3</th>\n",
       "      <td>chr1:629488:T:C</td>\n",
       "      <td>1:629488:T:C</td>\n",
       "    </tr>\n",
       "    <tr>\n",
       "      <th>4</th>\n",
       "      <td>rs9701055</td>\n",
       "      <td>1:630053:T:C</td>\n",
       "    </tr>\n",
       "  </tbody>\n",
       "</table>\n",
       "</div>"
      ],
      "text/plain": [
       "                 1             0\n",
       "0      1:49554-G-A   1:49554:G:A\n",
       "1     JHU_1.115745  1:115746:T:C\n",
       "2     JHU_1.534237  1:598858:C:A\n",
       "3  chr1:629488:T:C  1:629488:T:C\n",
       "4        rs9701055  1:630053:T:C"
      ]
     },
     "execution_count": 18,
     "metadata": {},
     "output_type": "execute_result"
    }
   ],
   "source": [
    "import pandas as pd\n",
    "df_bim = pd.read_csv(\n",
    "    os.path.join(input_dir, input_name + '.bim'),\n",
    "    sep=r'\\s+',\n",
    "    engine='python',\n",
    "    header=None,\n",
    ")\n",
    "df_bim\n",
    "\n",
    "df_linkage = pd.concat(\n",
    "    [df_bim[1] ,df_bim[0].astype(str) + ':' + df_bim[3].astype(str)+ ':' + df_bim[4].astype(str) + ':' + df_bim[5].astype(str)],\n",
    "    axis=1,\n",
    ")\n",
    "df_linkage.head()"
   ]
  },
  {
   "cell_type": "code",
   "execution_count": 19,
   "metadata": {},
   "outputs": [
    {
     "data": {
      "text/html": [
       "<div>\n",
       "<style scoped>\n",
       "    .dataframe tbody tr th:only-of-type {\n",
       "        vertical-align: middle;\n",
       "    }\n",
       "\n",
       "    .dataframe tbody tr th {\n",
       "        vertical-align: top;\n",
       "    }\n",
       "\n",
       "    .dataframe thead th {\n",
       "        text-align: right;\n",
       "    }\n",
       "</style>\n",
       "<table border=\"1\" class=\"dataframe\">\n",
       "  <thead>\n",
       "    <tr style=\"text-align: right;\">\n",
       "      <th></th>\n",
       "      <th>0</th>\n",
       "      <th>1</th>\n",
       "      <th>2</th>\n",
       "      <th>3</th>\n",
       "      <th>4</th>\n",
       "      <th>5</th>\n",
       "    </tr>\n",
       "  </thead>\n",
       "  <tbody>\n",
       "    <tr>\n",
       "      <th>0</th>\n",
       "      <td>1</td>\n",
       "      <td>1:49554:G:A</td>\n",
       "      <td>0</td>\n",
       "      <td>49554</td>\n",
       "      <td>G</td>\n",
       "      <td>A</td>\n",
       "    </tr>\n",
       "    <tr>\n",
       "      <th>1</th>\n",
       "      <td>1</td>\n",
       "      <td>1:115746:T:C</td>\n",
       "      <td>0</td>\n",
       "      <td>115746</td>\n",
       "      <td>T</td>\n",
       "      <td>C</td>\n",
       "    </tr>\n",
       "    <tr>\n",
       "      <th>2</th>\n",
       "      <td>1</td>\n",
       "      <td>1:598858:C:A</td>\n",
       "      <td>0</td>\n",
       "      <td>598858</td>\n",
       "      <td>C</td>\n",
       "      <td>A</td>\n",
       "    </tr>\n",
       "    <tr>\n",
       "      <th>3</th>\n",
       "      <td>1</td>\n",
       "      <td>1:629488:T:C</td>\n",
       "      <td>0</td>\n",
       "      <td>629488</td>\n",
       "      <td>T</td>\n",
       "      <td>C</td>\n",
       "    </tr>\n",
       "    <tr>\n",
       "      <th>4</th>\n",
       "      <td>1</td>\n",
       "      <td>1:630053:T:C</td>\n",
       "      <td>0</td>\n",
       "      <td>630053</td>\n",
       "      <td>T</td>\n",
       "      <td>C</td>\n",
       "    </tr>\n",
       "    <tr>\n",
       "      <th>...</th>\n",
       "      <td>...</td>\n",
       "      <td>...</td>\n",
       "      <td>...</td>\n",
       "      <td>...</td>\n",
       "      <td>...</td>\n",
       "      <td>...</td>\n",
       "    </tr>\n",
       "    <tr>\n",
       "      <th>1842631</th>\n",
       "      <td>24</td>\n",
       "      <td>24:26671311:A:C</td>\n",
       "      <td>0</td>\n",
       "      <td>26671311</td>\n",
       "      <td>A</td>\n",
       "      <td>C</td>\n",
       "    </tr>\n",
       "    <tr>\n",
       "      <th>1842632</th>\n",
       "      <td>24</td>\n",
       "      <td>24:26671347:T:A</td>\n",
       "      <td>0</td>\n",
       "      <td>26671347</td>\n",
       "      <td>T</td>\n",
       "      <td>A</td>\n",
       "    </tr>\n",
       "    <tr>\n",
       "      <th>1842633</th>\n",
       "      <td>24</td>\n",
       "      <td>24:26671432:A:G</td>\n",
       "      <td>0</td>\n",
       "      <td>26671432</td>\n",
       "      <td>A</td>\n",
       "      <td>G</td>\n",
       "    </tr>\n",
       "    <tr>\n",
       "      <th>1842634</th>\n",
       "      <td>24</td>\n",
       "      <td>24:26671489:G:A</td>\n",
       "      <td>0</td>\n",
       "      <td>26671489</td>\n",
       "      <td>G</td>\n",
       "      <td>A</td>\n",
       "    </tr>\n",
       "    <tr>\n",
       "      <th>1842635</th>\n",
       "      <td>24</td>\n",
       "      <td>24:56747774:C:A</td>\n",
       "      <td>0</td>\n",
       "      <td>56747774</td>\n",
       "      <td>C</td>\n",
       "      <td>A</td>\n",
       "    </tr>\n",
       "  </tbody>\n",
       "</table>\n",
       "<p>1842636 rows × 6 columns</p>\n",
       "</div>"
      ],
      "text/plain": [
       "          0                1  2         3  4  5\n",
       "0         1      1:49554:G:A  0     49554  G  A\n",
       "1         1     1:115746:T:C  0    115746  T  C\n",
       "2         1     1:598858:C:A  0    598858  C  A\n",
       "3         1     1:629488:T:C  0    629488  T  C\n",
       "4         1     1:630053:T:C  0    630053  T  C\n",
       "...      ..              ... ..       ... .. ..\n",
       "1842631  24  24:26671311:A:C  0  26671311  A  C\n",
       "1842632  24  24:26671347:T:A  0  26671347  T  A\n",
       "1842633  24  24:26671432:A:G  0  26671432  A  G\n",
       "1842634  24  24:26671489:G:A  0  26671489  G  A\n",
       "1842635  24  24:56747774:C:A  0  56747774  C  A\n",
       "\n",
       "[1842636 rows x 6 columns]"
      ]
     },
     "execution_count": 19,
     "metadata": {},
     "output_type": "execute_result"
    }
   ],
   "source": [
    "df_bim[1] = df_bim[0].astype(str) + ':' + df_bim[3].astype(str)+ ':' + df_bim[4].astype(str) + ':' + df_bim[5].astype(str)\n",
    "df_bim"
   ]
  },
  {
   "cell_type": "code",
   "execution_count": 20,
   "metadata": {},
   "outputs": [],
   "source": [
    "df_bim.to_csv(\n",
    "    os.path.join(input_dir, input_name + '.bim'),\n",
    "    sep='\\t',\n",
    "    header=False,\n",
    "    index=False,\n",
    ")"
   ]
  },
  {
   "cell_type": "code",
   "execution_count": 21,
   "metadata": {},
   "outputs": [],
   "source": [
    "df_linkage.to_csv(\n",
    "    os.path.join(input_dir, input_name + '.linkage'),\n",
    "    sep='\\t',\n",
    "    header=False,\n",
    "    index=False,\n",
    ")"
   ]
  },
  {
   "cell_type": "code",
   "execution_count": 8,
   "metadata": {},
   "outputs": [],
   "source": [
    "#sample.execute_sex_check(sex_check=None)"
   ]
  },
  {
   "cell_type": "code",
   "execution_count": 9,
   "metadata": {},
   "outputs": [],
   "source": [
    "#sample.execute_heterozygosity_rate(maf=0.01)"
   ]
  },
  {
   "cell_type": "code",
   "execution_count": 10,
   "metadata": {},
   "outputs": [],
   "source": [
    "#sample.execute_dup_relatedness(kingship=0.354)"
   ]
  },
  {
   "cell_type": "code",
   "execution_count": 11,
   "metadata": {},
   "outputs": [
    {
     "ename": "NameError",
     "evalue": "name 'sample' is not defined",
     "output_type": "error",
     "traceback": [
      "\u001b[0;31m---------------------------------------------------------------------------\u001b[0m",
      "\u001b[0;31mNameError\u001b[0m                                 Traceback (most recent call last)",
      "Cell \u001b[0;32mIn[11], line 1\u001b[0m\n\u001b[0;32m----> 1\u001b[0m df_call \u001b[38;5;241m=\u001b[39m \u001b[43msample\u001b[49m\u001b[38;5;241m.\u001b[39mget_fail_samples(call_rate_thres\u001b[38;5;241m=\u001b[39m\u001b[38;5;241m0.2\u001b[39m, std_deviation_het\u001b[38;5;241m=\u001b[39m\u001b[38;5;241m3\u001b[39m, maf_het\u001b[38;5;241m=\u001b[39m\u001b[38;5;241m0.01\u001b[39m)\n\u001b[1;32m      2\u001b[0m df_call\u001b[38;5;241m.\u001b[39mhead()\n",
      "\u001b[0;31mNameError\u001b[0m: name 'sample' is not defined"
     ]
    }
   ],
   "source": [
    "df_call = sample.get_fail_samples(call_rate_thres=0.2, std_deviation_het=3, maf_het=0.01)\n",
    "df_call.head()"
   ]
  },
  {
   "cell_type": "code",
   "execution_count": null,
   "metadata": {},
   "outputs": [],
   "source": []
  }
 ],
 "metadata": {
  "kernelspec": {
   "display_name": "cge-comrare-pipeline-AOnVxG3n-py3.12",
   "language": "python",
   "name": "python3"
  },
  "language_info": {
   "codemirror_mode": {
    "name": "ipython",
    "version": 3
   },
   "file_extension": ".py",
   "mimetype": "text/x-python",
   "name": "python",
   "nbconvert_exporter": "python",
   "pygments_lexer": "ipython3",
   "version": "3.12.3"
  }
 },
 "nbformat": 4,
 "nbformat_minor": 2
}
